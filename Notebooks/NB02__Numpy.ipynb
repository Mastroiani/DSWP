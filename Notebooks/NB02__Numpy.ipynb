{
  "nbformat": 4,
  "nbformat_minor": 0,
  "metadata": {
    "colab": {
      "name": "NB02__Numpy.ipynb",
      "provenance": [],
      "collapsed_sections": [
        "n8BIbzQbNWUo",
        "7eS94uQ4NhVR",
        "SYOgJpGYVLUu",
        "CaHFxk98W5if",
        "ReWUyWiHXCnc",
        "CqszHxaKHr2h",
        "tXgF1Wl9gHKY",
        "Fotx7XUquAo8",
        "36kmLUYDvsUI",
        "SWO2GdNovxAp",
        "vpN54l4vxze5",
        "u4HOf9SNytSq",
        "6BQ9oZiD9hg5",
        "tz5-QdrX9vct",
        "p1muBgMX8NK4",
        "FxTC2-U88ajk",
        "z8EYn0pP25Rh"
      ],
      "include_colab_link": true
    },
    "kernelspec": {
      "name": "python3",
      "display_name": "Python 3"
    },
    "accelerator": "GPU"
  },
  "cells": [
    {
      "cell_type": "markdown",
      "metadata": {
        "id": "view-in-github",
        "colab_type": "text"
      },
      "source": [
        "<a href=\"https://colab.research.google.com/github/Mastroiani/DSWP/blob/Sand-Aula-Numpy/Notebooks/NB02__Numpy.ipynb\" target=\"_parent\"><img src=\"https://colab.research.google.com/assets/colab-badge.svg\" alt=\"Open In Colab\"/></a>"
      ]
    },
    {
      "cell_type": "markdown",
      "metadata": {
        "id": "6QhLXoatkvKR"
      },
      "source": [
        "<center><h1><b><i>NUMPY</i></b></h1></center>\n",
        "\n",
        "> NumPy é um pacote para computação científica e álgebra linear para Python.\n",
        "\n"
      ]
    },
    {
      "cell_type": "markdown",
      "metadata": {
        "id": "b8EZupp68vW8"
      },
      "source": [
        "# **AGENDA**:\n",
        "> Neste capítulo, vamos abordar os seguintes assuntos:\n",
        "\n",
        "* NumPy\n",
        "* Criar arrays\n",
        "* Criar Arrays Multidimensionais\n",
        "* Selecionar itens\n",
        "* Aplicar funções como max(), min() e etc\n",
        "* Calcular Estatísticas Descritivas: média e variância\n",
        "* Reshaping\n",
        "* Tansposta de um array\n",
        "* Autovalores e Autovetores\n",
        "* Wrap Up\n",
        "* Exercícios"
      ]
    },
    {
      "cell_type": "markdown",
      "metadata": {
        "id": "cO5t3xCO8kyK"
      },
      "source": [
        "___\n",
        "# **NOTAS E OBSERVAÇÕES**\n",
        "\n",
        "* Nosso foco com o NumPy é facilitar o uso do Pandas;"
      ]
    },
    {
      "cell_type": "markdown",
      "metadata": {
        "id": "z2IFUG4GSB0Z"
      },
      "source": [
        "___\n",
        "# **CHEETSHEET**"
      ]
    },
    {
      "cell_type": "markdown",
      "metadata": {
        "id": "jYLeDVH-SNCg"
      },
      "source": [
        "![Numpy](https://github.com/MathMachado/Materials/blob/master/numpy_basics-1.png?raw=true)"
      ]
    },
    {
      "cell_type": "markdown",
      "metadata": {
        "id": "0mKvExmgUFOk"
      },
      "source": [
        "# **ESCALAR, VETORES, MATRIZES E TENSORES**\n",
        "\n",
        "![Tensor](https://github.com/MathMachado/Materials/blob/master/tensor.png?raw=true)\n",
        "\n",
        "Source: [PyTorch for Deep Learning: A Quick Guide for Starters](https://towardsdatascience.com/pytorch-for-deep-learning-a-quick-guide-for-starters-5b60d2dbb564)"
      ]
    },
    {
      "cell_type": "markdown",
      "metadata": {
        "id": "o00pYRIkXiAU"
      },
      "source": [
        "## Import Statement - Primeiros exemplos\n",
        "> Como exemplo, considere gerar uma amostra aleatória de tamanho 10 da Distribuição Normal(0, 1):"
      ]
    },
    {
      "cell_type": "markdown",
      "metadata": {
        "id": "l_XuvcUDWNDk"
      },
      "source": [
        "## Importar a library NumPy"
      ]
    },
    {
      "cell_type": "markdown",
      "metadata": {
        "id": "am_ZTIGaapCo"
      },
      "source": [
        "### **Opção 1**: Importar a biblioteca NumPy COM alias"
      ]
    },
    {
      "cell_type": "code",
      "metadata": {
        "id": "b4irLw6BWVVZ"
      },
      "source": [
        "import numpy as np"
      ],
      "execution_count": 1,
      "outputs": []
    },
    {
      "cell_type": "code",
      "metadata": {
        "id": "JK54ga7dXnJu",
        "colab": {
          "base_uri": "https://localhost:8080/"
        },
        "outputId": "9866b0cf-dc21-46be-ecd5-4ab9c37b3d5a"
      },
      "source": [
        "# Set up o número de casas decimais para o NumPy:\n",
        "np.set_printoptions(precision = 2, suppress = True)\n",
        "\n",
        "'''\n",
        "Define seed por questões de reproducibilidade, ou seja, \n",
        "garante que todos vamos gerar os mesmos números aleatórios\n",
        "'''\n",
        "np.random.seed(seed = 20111974)\n",
        "\n",
        "# Gera 10 números aleatórios a partir da Distribuição Normal(media, desvio_padrao)\n",
        "media = 0\n",
        "desvio_padrao = 1\n",
        "a_conjunto1 = np.random.normal(media, desvio_padrao, size = 10) # Array 1D de size = 10\n",
        "a_conjunto1"
      ],
      "execution_count": 2,
      "outputs": [
        {
          "output_type": "execute_result",
          "data": {
            "text/plain": [
              "array([ 2.51,  1.11,  2.06,  0.56,  0.3 ,  1.05, -0.13,  1.06,  1.14,\n",
              "        1.38])"
            ]
          },
          "metadata": {
            "tags": []
          },
          "execution_count": 2
        }
      ]
    },
    {
      "cell_type": "markdown",
      "metadata": {
        "id": "3-0934isZUm6"
      },
      "source": [
        "**Observação**: Altere o valor de [precision] para 4, 2 e 0 e observe o que acontece."
      ]
    },
    {
      "cell_type": "markdown",
      "metadata": {
        "id": "9ob_8S_bYYa2"
      },
      "source": [
        "### **Opção 2**: Importar a biblioteca NumPy SEM alias"
      ]
    },
    {
      "cell_type": "code",
      "metadata": {
        "id": "NcGd1ho_XDXU"
      },
      "source": [
        "import numpy"
      ],
      "execution_count": 3,
      "outputs": []
    },
    {
      "cell_type": "code",
      "metadata": {
        "id": "zFYH6J5-Ydjl",
        "colab": {
          "base_uri": "https://localhost:8080/"
        },
        "outputId": "16a084f3-00f8-4dc4-a3b2-1378baa08174"
      },
      "source": [
        "# Set up o número de casas decimais para o NumPy:\n",
        "numpy.set_printoptions(precision = 2, suppress = True)\n",
        "\n",
        "'''\n",
        "Define seed por questões de reproducibilidade, ou seja, \n",
        "garante que todos vamos gerar os mesmos números aleatórios\n",
        "'''\n",
        "numpy.random.seed(seed = 20111974)\n",
        "\n",
        "# Gera 10 números aleatórios a partir da Distribuição Normal(mu, desvio_padrao)\n",
        "media = 0\n",
        "desvio_padrao = 1\n",
        "numpy.random.normal(size = 10)"
      ],
      "execution_count": 4,
      "outputs": [
        {
          "output_type": "execute_result",
          "data": {
            "text/plain": [
              "array([ 2.51,  1.11,  2.06,  0.56,  0.3 ,  1.05, -0.13,  1.06,  1.14,\n",
              "        1.38])"
            ]
          },
          "metadata": {
            "tags": []
          },
          "execution_count": 4
        }
      ]
    },
    {
      "cell_type": "markdown",
      "metadata": {
        "id": "AwWSzYrZWfvA"
      },
      "source": [
        "### **Opção 3**: Importar funções específicas da biblioteca NumPy"
      ]
    },
    {
      "cell_type": "code",
      "metadata": {
        "id": "bfYJzcqRa5eu"
      },
      "source": [
        "from numpy import set_printoptions\n",
        "from numpy.random import seed, normal"
      ],
      "execution_count": null,
      "outputs": []
    },
    {
      "cell_type": "code",
      "metadata": {
        "id": "Xj6fbpvubH_p"
      },
      "source": [
        "# Set up o número de casas decimais para o NumPy:\n",
        "set_printoptions(precision = 2, suppress = True)\n",
        "\n",
        "'''\n",
        "Define seed por questões de reproducibilidade, ou seja, \n",
        "garante que todos vamos gerar os mesmos números aleatórios\n",
        "'''\n",
        "seed(seed = 20111974)\n",
        "\n",
        "# Gera 10 números aleatórios a partir da Distribuição Normal(mu, desvio_padrao)\n",
        "media = 0\n",
        "desvio_padrao = 1 \n",
        "np.random.normal(size = 10)"
      ],
      "execution_count": null,
      "outputs": []
    },
    {
      "cell_type": "markdown",
      "metadata": {
        "id": "00RerJPChnuP"
      },
      "source": [
        "___\n",
        "# **Estatísticas Descriticas com NumPy**"
      ]
    },
    {
      "cell_type": "markdown",
      "metadata": {
        "id": "Qa6ro1VJlShd"
      },
      "source": [
        "## Exemplo 1\n",
        "> Vamos voltar ao mesmo exemplo anterior, mas desta vez, usando a opção 1 (com alias):\n",
        "\n",
        "* Gerar uma amostra aleatória de tamanho 10 da Distribuiçao Normal(0, 1)."
      ]
    },
    {
      "cell_type": "code",
      "metadata": {
        "id": "31dSBU8khvFk",
        "colab": {
          "base_uri": "https://localhost:8080/"
        },
        "outputId": "94212a1a-45c5-4bb6-d5bc-74b3f78899d7"
      },
      "source": [
        "# Set up o número de casas decimais para o NumPy:\n",
        "np.set_printoptions(precision = 2, suppress = True)\n",
        "\n",
        "# Define seed\n",
        "np.random.seed(seed = 20111974)\n",
        "\n",
        "# Gera 10 números aleatórios a partir da Distribuição Normal(media, desvio_padrao)\n",
        "media = 0\n",
        "desvio_padrao = 1\n",
        "\n",
        "np.random\n",
        "a_conjunto1 = np.random.normal(media, desvio_padrao, size = 10) # Array 1D de size = 10\n",
        "a_conjunto1"
      ],
      "execution_count": 5,
      "outputs": [
        {
          "output_type": "execute_result",
          "data": {
            "text/plain": [
              "array([ 2.51,  1.11,  2.06,  0.56,  0.3 ,  1.05, -0.13,  1.06,  1.14,\n",
              "        1.38])"
            ]
          },
          "metadata": {
            "tags": []
          },
          "execution_count": 5
        }
      ]
    },
    {
      "cell_type": "code",
      "metadata": {
        "colab": {
          "base_uri": "https://localhost:8080/"
        },
        "id": "R7cj41fGdU1s",
        "outputId": "0e86f09f-8ff1-45da-a44d-de88eff538dd"
      },
      "source": [
        "np.mean(a_conjunto1)"
      ],
      "execution_count": 6,
      "outputs": [
        {
          "output_type": "execute_result",
          "data": {
            "text/plain": [
              "1.1043374540652753"
            ]
          },
          "metadata": {
            "tags": []
          },
          "execution_count": 6
        }
      ]
    },
    {
      "cell_type": "code",
      "metadata": {
        "colab": {
          "base_uri": "https://localhost:8080/"
        },
        "id": "0pXWr645dq7V",
        "outputId": "7d0e7795-bc66-4093-fc62-021f8221fe4c"
      },
      "source": [
        "np.std(a_conjunto1)"
      ],
      "execution_count": 7,
      "outputs": [
        {
          "output_type": "execute_result",
          "data": {
            "text/plain": [
              "0.735246705657231"
            ]
          },
          "metadata": {
            "tags": []
          },
          "execution_count": 7
        }
      ]
    },
    {
      "cell_type": "markdown",
      "metadata": {
        "id": "wa2t0P3nevTh"
      },
      "source": [
        "Conferindo a média e desvio-padrão do array gerado:"
      ]
    },
    {
      "cell_type": "code",
      "metadata": {
        "id": "drUyk3f5ekDq",
        "colab": {
          "base_uri": "https://localhost:8080/",
          "height": 35
        },
        "outputId": "0633a1f4-073a-4397-d123-5246c01479e4"
      },
      "source": [
        "f'Distribuição N({np.mean(a_conjunto1)}, {np.std(a_conjunto1)})'"
      ],
      "execution_count": 8,
      "outputs": [
        {
          "output_type": "execute_result",
          "data": {
            "application/vnd.google.colaboratory.intrinsic+json": {
              "type": "string"
            },
            "text/plain": [
              "'Distribuição N(1.1043374540652753, 0.735246705657231)'"
            ]
          },
          "metadata": {
            "tags": []
          },
          "execution_count": 8
        }
      ]
    },
    {
      "cell_type": "markdown",
      "metadata": {
        "id": "XSp7Hd-Gib67"
      },
      "source": [
        "Estávamos à espera de media = 0 e sigma = 1. Certo? Porque isso não aconteceu?"
      ]
    },
    {
      "cell_type": "markdown",
      "metadata": {
        "id": "HP_8VSgygXOF"
      },
      "source": [
        "## **Laboratório 1**\n",
        "> Altere os valores de [size] para 100, 1.000, 10.000, 100.000 e 1.000.000 e relate o que acontece com a média e desvio padrão."
      ]
    },
    {
      "cell_type": "markdown",
      "metadata": {
        "id": "4TbmVbdcg6iU"
      },
      "source": [
        "## **Minha solução**"
      ]
    },
    {
      "cell_type": "code",
      "metadata": {
        "id": "-qdiqBVHg-gd",
        "colab": {
          "base_uri": "https://localhost:8080/"
        },
        "outputId": "ad07062b-54fb-43b9-bfb3-cf6ca111f2fb"
      },
      "source": [
        "# Define a média e o desvio-padrão\n",
        "media = 0\n",
        "desvio_padrao = 1\n",
        "\n",
        "# Define seed\n",
        "np.random.seed(seed = 20111974)\n",
        "l_lista_conjunto = [10, 100, 1000, 10000, 100000, 1000000, 10000000, 100000000, 1000000000]\n",
        "\n",
        "for i_size in l_lista_conjunto:\n",
        "    a_conjunto1 = np.random.normal(media, desvio_padrao, size = i_size)\n",
        "    print(f'Size: {i_size}--> Distribuição: N({np.mean(a_conjunto1)}, {np.std(a_conjunto1)})')"
      ],
      "execution_count": null,
      "outputs": [
        {
          "output_type": "stream",
          "text": [
            "Size: 10--> Distribuição: N(1.1043374540652753, 0.735246705657231)\n",
            "Size: 100--> Distribuição: N(-0.14020525697186714, 0.9254100654233511)\n",
            "Size: 1000--> Distribuição: N(0.021644923462910873, 1.0054417533501039)\n",
            "Size: 10000--> Distribuição: N(0.015499353804764507, 0.9970905566844254)\n",
            "Size: 100000--> Distribuição: N(0.002039323041103302, 0.9960906293570095)\n",
            "Size: 1000000--> Distribuição: N(-1.1062145143945444e-06, 0.999473966169304)\n",
            "Size: 10000000--> Distribuição: N(0.0002892972723094128, 1.0001202837422036)\n",
            "Size: 100000000--> Distribuição: N(0.00011967896623555603, 0.999944390106086)\n"
          ],
          "name": "stdout"
        }
      ]
    },
    {
      "cell_type": "markdown",
      "metadata": {
        "id": "bp-YuviQwWqE"
      },
      "source": [
        "Com relação à Distribuição Normal($\\mu, \\sigma$), temos que:\n",
        "\n",
        "![NormalDistribution](https://github.com/MathMachado/Materials/blob/master/NormalDistribution.PNG?raw=true)\n",
        "\n",
        "Fonte: [Normal Distribution](https://towardsdatascience.com/understanding-the-68-95-99-7-rule-for-a-normal-distribution-b7b7cbf760c2)"
      ]
    },
    {
      "cell_type": "markdown",
      "metadata": {
        "id": "KwHBY3Enk04N"
      },
      "source": [
        "## Lei Forte dos Grandes Números - LFGN\n",
        "> Por favor, leia o que diz a [Law of large numbers](https://en.wikipedia.org/wiki/Law_of_large_numbers). --> 3 minutos.\n",
        "\n",
        "* O que você aprendeu com isso?"
      ]
    },
    {
      "cell_type": "markdown",
      "metadata": {
        "id": "BhwmSkAjlszT"
      },
      "source": [
        "## Exemplo 2\n",
        "> Vamos nos aprofundar um pouco mais no que diz a LFGN. Para isso, vamos simular o lançamento de dados. Como sabemos, os dados possuem 6 lados numerados de 1 a 6, com igual probabilidade. Certo?\n",
        "\n",
        "A LFGN nos diz que à medida que N (o tamanho da amostra ou número de dados) cresce, então a média dos dados converge para o valor esperado. Isso quer dizer que:\n",
        "\n",
        "$$\\frac{1+2+3+4+5+6}{6}= \\frac{21}{6}= 3,5$$\n",
        "\n",
        "Ou seja, à medida que N (o tamanho da amostra) cresce, espera-se que a média dos dados se aproxime de 3,5. Ok?\n",
        "\n",
        "Vamos ver se isso é verdade..."
      ]
    },
    {
      "cell_type": "markdown",
      "metadata": {
        "id": "-QcJXf6roj0D"
      },
      "source": [
        "Vamos usar o método np.random.randint (= função randint definido na classe np.random), a seguir:"
      ]
    },
    {
      "cell_type": "markdown",
      "metadata": {
        "id": "A2u0RzLOrRE2"
      },
      "source": [
        "O que significa ou qual é a interpretação do resultado abaixo?"
      ]
    },
    {
      "cell_type": "code",
      "metadata": {
        "id": "B3-X_VBerUfa",
        "colab": {
          "base_uri": "https://localhost:8080/"
        },
        "outputId": "94201ed9-5490-4cf1-baf0-0cfee2716704"
      },
      "source": [
        "# Define seed\n",
        "import numpy as np\n",
        "np.random.seed(seed = 20111974)\n",
        "\n",
        "# Simular 100 lançamentos de um dado:\n",
        "a_dados_simulados = np.random.randint(1, 7, size = 100)\n",
        "a_dados_simulados"
      ],
      "execution_count": 1,
      "outputs": [
        {
          "output_type": "execute_result",
          "data": {
            "text/plain": [
              "array([4, 5, 3, 1, 1, 4, 3, 1, 2, 2, 1, 1, 6, 4, 5, 3, 1, 4, 1, 6, 2, 4,\n",
              "       6, 2, 4, 3, 2, 6, 3, 6, 2, 6, 1, 3, 1, 2, 4, 2, 4, 6, 3, 2, 6, 1,\n",
              "       4, 3, 6, 5, 2, 3, 3, 3, 3, 2, 1, 6, 2, 1, 2, 3, 1, 5, 6, 6, 6, 6,\n",
              "       5, 6, 6, 5, 6, 3, 3, 2, 4, 2, 6, 1, 2, 3, 4, 5, 5, 3, 1, 6, 6, 5,\n",
              "       5, 1, 4, 6, 2, 2, 4, 3, 6, 1, 5, 5])"
            ]
          },
          "metadata": {
            "tags": []
          },
          "execution_count": 1
        }
      ]
    },
    {
      "cell_type": "code",
      "metadata": {
        "id": "m8Of2MMIrbF3",
        "colab": {
          "base_uri": "https://localhost:8080/"
        },
        "outputId": "c102e4c5-4142-41c6-a372-635ca133644b"
      },
      "source": [
        "# Importar o pandas, pois vamos precisar do método pd.value_counts():\n",
        "import pandas as pd\n",
        "pd.value_counts(a_dados_simulados)\n"
      ],
      "execution_count": 2,
      "outputs": [
        {
          "output_type": "execute_result",
          "data": {
            "text/plain": [
              "6    22\n",
              "3    18\n",
              "2    18\n",
              "1    17\n",
              "4    13\n",
              "5    12\n",
              "dtype: int64"
            ]
          },
          "metadata": {
            "tags": []
          },
          "execution_count": 2
        }
      ]
    },
    {
      "cell_type": "markdown",
      "metadata": {
        "id": "54VwED8Br8rx"
      },
      "source": [
        "**Interpretação**: Isso quer dizer que fizemos a simulação de lançamento de um dado 100 vezes. Acima, a frequência com que cada lado do dado aparece.\n",
        "\n",
        "Eu estava à espera de frequência igual para cada um dos lados, isto é, por volta dos 16 ou 17. Ou seja:\n",
        "\n",
        "$$\\frac{100}{6}= 16,66$$\n",
        "\n",
        "Mas ok, vamos continuar com nosso experimento..."
      ]
    },
    {
      "cell_type": "code",
      "metadata": {
        "id": "HT_Dak-umC6I",
        "colab": {
          "base_uri": "https://localhost:8080/"
        },
        "outputId": "d05d25a0-8c37-46c5-db29-a298de6fca46"
      },
      "source": [
        "# Definir a semente\n",
        "np.random.seed(20111974)\n",
        "\n",
        "for i_size in [10, 30, 50, 75, 100, 1000, 10000, 100000, 1000000]:\n",
        "    a_dados_simulados = np.random.randint(1, 7, size = i_size)\n",
        "    print(f'Size: {i_size} --> Média: {np.mean(a_dados_simulados)}')"
      ],
      "execution_count": 3,
      "outputs": [
        {
          "output_type": "stream",
          "text": [
            "Size: 10 --> Média: 2.6\n",
            "Size: 30 --> Média: 3.3666666666666667\n",
            "Size: 50 --> Média: 3.72\n",
            "Size: 75 --> Média: 3.2666666666666666\n",
            "Size: 100 --> Média: 3.42\n",
            "Size: 1000 --> Média: 3.461\n",
            "Size: 10000 --> Média: 3.5259\n",
            "Size: 100000 --> Média: 3.50794\n",
            "Size: 1000000 --> Média: 3.50151\n"
          ],
          "name": "stdout"
        }
      ]
    },
    {
      "cell_type": "markdown",
      "metadata": {
        "id": "edWNNOnXtbtd"
      },
      "source": [
        "E agora, como você interpreta esses resultados?"
      ]
    },
    {
      "cell_type": "markdown",
      "metadata": {
        "id": "eL6gXThkYcSf"
      },
      "source": [
        "## Calcular percentis\n",
        "> Boxplot"
      ]
    },
    {
      "cell_type": "markdown",
      "metadata": {
        "id": "jlGOQfXfPf0D"
      },
      "source": [
        "![BoxPlot](https://github.com/MathMachado/Materials/blob/master/boxplot.png?raw=true)\n",
        "\n",
        "Fonte: [Understanding Boxplots](https://towardsdatascience.com/understanding-boxplots-5e2df7bcbd51)"
      ]
    },
    {
      "cell_type": "markdown",
      "metadata": {
        "id": "grtEXG2BoNRt"
      },
      "source": [
        "Considere o array de retornos (simulados) a seguir:"
      ]
    },
    {
      "cell_type": "code",
      "metadata": {
        "id": "DjPKKq01YjF9",
        "colab": {
          "base_uri": "https://localhost:8080/"
        },
        "outputId": "ee780703-5997-43bf-f9ee-7b4711ed0cce"
      },
      "source": [
        "import numpy as np\n",
        "np.random.seed(20111974)\n",
        "\n",
        "# Simulando Retornos de ativos financeiros com a distribuição Normal(0, 1):\n",
        "a_retornos = np.random.normal(0, 1, 100)\n",
        "print(f'Média: {np.mean(a_retornos)}')"
      ],
      "execution_count": 4,
      "outputs": [
        {
          "output_type": "stream",
          "text": [
            "Média: -0.016996335492713833\n"
          ],
          "name": "stdout"
        }
      ]
    },
    {
      "cell_type": "code",
      "metadata": {
        "id": "ajjlfqgssLVO",
        "colab": {
          "base_uri": "https://localhost:8080/"
        },
        "outputId": "29c19a6f-2d88-44b4-e3e2-09b3e5aeede7"
      },
      "source": [
        "a_retornos"
      ],
      "execution_count": 5,
      "outputs": [
        {
          "output_type": "execute_result",
          "data": {
            "text/plain": [
              "array([ 2.5062768 ,  1.11440422,  2.05565501,  0.56482376,  0.29897276,\n",
              "        1.04930857, -0.12607366,  1.06227632,  1.13807032,  1.37966044,\n",
              "       -2.05995563,  0.67474814,  0.72722843, -0.33923852,  0.43613107,\n",
              "        0.59135489, -1.29281877,  1.17712036, -0.98644163, -1.79034143,\n",
              "       -1.08913605, -0.90712825, -1.02291108, -1.36445713, -0.29429164,\n",
              "        0.06343709, -1.14196185, -0.50706079, -0.83539436, -1.41492946,\n",
              "       -0.2159062 , -1.16519474, -0.60767518, -0.61510925,  1.0771542 ,\n",
              "        0.5043687 ,  0.02674197,  1.83494644,  0.34728874, -1.14671885,\n",
              "       -0.59841423, -0.42698353,  0.10901983, -0.75168457,  0.71689294,\n",
              "       -0.50810299,  0.47524103, -0.38248511, -1.37491973,  1.5355728 ,\n",
              "       -0.27356178,  0.68072592, -1.80454873,  1.16995833, -0.37988822,\n",
              "        0.19305861,  1.53792436, -0.11802807, -0.97621103, -1.23463994,\n",
              "        1.0504434 ,  1.91481015,  0.80359454,  0.35869561,  1.03409992,\n",
              "       -0.37200685,  0.32947575,  0.70038627, -0.98085533, -1.21072144,\n",
              "        0.74366412,  0.18372348,  0.10430302, -0.78160841, -0.0423915 ,\n",
              "        1.67094293, -1.07256479, -0.5493723 , -1.83082917,  0.11510819,\n",
              "        1.3911365 , -0.28940563,  0.31904722, -0.70009623, -0.4353552 ,\n",
              "       -2.0301258 , -0.14205882,  1.66292963, -0.57691495, -0.78963384,\n",
              "       -0.80660503,  0.05581487,  0.8715663 , -0.3499477 ,  1.37366912,\n",
              "        0.88027638, -1.47925906, -0.40657104, -0.18789895,  0.47475142])"
            ]
          },
          "metadata": {
            "tags": []
          },
          "execution_count": 5
        }
      ]
    },
    {
      "cell_type": "markdown",
      "metadata": {
        "id": "XZ3m06gv9lei"
      },
      "source": [
        "A seguir, o boxplot do array a_retornos:"
      ]
    },
    {
      "cell_type": "code",
      "metadata": {
        "id": "QtuwJP449tBQ",
        "colab": {
          "base_uri": "https://localhost:8080/",
          "height": 270
        },
        "outputId": "27683449-8dc9-46a2-a825-bdecdb70cff4"
      },
      "source": [
        "# Import da biblioteca seaborn: Uma das principais libraries para Data Visualization (outras: matplotlib)\n",
        "import seaborn as sns\n",
        "\n",
        "sns.boxplot(y = a_retornos)"
      ],
      "execution_count": 10,
      "outputs": [
        {
          "output_type": "execute_result",
          "data": {
            "text/plain": [
              "<matplotlib.axes._subplots.AxesSubplot at 0x7f3cd6d9a7d0>"
            ]
          },
          "metadata": {
            "tags": []
          },
          "execution_count": 10
        },
        {
          "output_type": "display_data",
          "data": {
            "image/png": "[encoded data removed]",
            "text/plain": [
              "<Figure size 432x288 with 1 Axes>"
            ]
          },
          "metadata": {
            "tags": [],
            "needs_background": "light"
          }
        }
      ]
    },
    {
      "cell_type": "code",
      "metadata": {
        "id": "o9ujdjxNY6qE",
        "colab": {
          "base_uri": "https://localhost:8080/"
        },
        "outputId": "ef314b9b-6858-4663-fa67-00fd7909fa15"
      },
      "source": [
        "# Vamos usar o método np.percentile(array, q = [p1, p2, p3, ..., p99])\n",
        "percentis = np.percentile(a_retornos, q = [1, 5, 25, 50, 55, 75, 99])\n",
        "\n",
        "# Primeiro Quartil\n",
        "q1 = percentis[2]\n",
        "q1"
      ],
      "execution_count": 14,
      "outputs": [
        {
          "output_type": "execute_result",
          "data": {
            "text/plain": [
              "-0.7836147655170408"
            ]
          },
          "metadata": {
            "tags": []
          },
          "execution_count": 14
        }
      ]
    },
    {
      "cell_type": "markdown",
      "metadata": {
        "id": "c75g2Egco2lc"
      },
      "source": [
        "Em qual posição do array a_retornos se encontra Q3?"
      ]
    },
    {
      "cell_type": "code",
      "metadata": {
        "id": "nZr-A82Zo8Kb",
        "colab": {
          "base_uri": "https://localhost:8080/"
        },
        "outputId": "748be0d4-d808-4013-c9d9-0904ff7f63c4"
      },
      "source": [
        "q3 = percentis[5]\n",
        "\n",
        "# ou de trás para a frente do conteúdo da lista:\n",
        "q3_2 = percentis[-2]\n",
        "print(q3, q3_2)"
      ],
      "execution_count": 12,
      "outputs": [
        {
          "output_type": "stream",
          "text": [
            "0.7194768106252311 0.7194768106252311\n"
          ],
          "name": "stdout"
        }
      ]
    },
    {
      "cell_type": "code",
      "metadata": {
        "id": "sWrnESPQT4JM"
      },
      "source": [
        "# lim_inferior_outlier e lim_superior_outlier para detecção de outliers\n",
        "lim_inferior_outlier = q1 - 1.5 * (q3 - q1)\n",
        "lim_superior_outlier = q3 + 1.5 * (q3 - q1)"
      ],
      "execution_count": 15,
      "outputs": []
    },
    {
      "cell_type": "code",
      "metadata": {
        "id": "Yb4-ZJlUUYsi",
        "colab": {
          "base_uri": "https://localhost:8080/",
          "height": 35
        },
        "outputId": "43a56883-9688-4e86-a20a-fc5b3c243622"
      },
      "source": [
        "f'Limite Inferior: {lim_inferior_outlier}; Limite Superior: {lim_superior_outlier}'"
      ],
      "execution_count": 16,
      "outputs": [
        {
          "output_type": "execute_result",
          "data": {
            "application/vnd.google.colaboratory.intrinsic+json": {
              "type": "string"
            },
            "text/plain": [
              "'Limite Inferior: -3.0382521297304486; Limite Superior: 2.974114174838639'"
            ]
          },
          "metadata": {
            "tags": []
          },
          "execution_count": 16
        }
      ]
    },
    {
      "cell_type": "code",
      "metadata": {
        "id": "Jr6oXIHlUxOe",
        "colab": {
          "base_uri": "https://localhost:8080/"
        },
        "outputId": "fc19f04e-38ba-4dee-c59f-9feaf0b840b4"
      },
      "source": [
        "np.min(a_retornos)"
      ],
      "execution_count": 17,
      "outputs": [
        {
          "output_type": "execute_result",
          "data": {
            "text/plain": [
              "-2.0599556303504514"
            ]
          },
          "metadata": {
            "tags": []
          },
          "execution_count": 17
        }
      ]
    },
    {
      "cell_type": "code",
      "metadata": {
        "id": "UxE47cN0U54X",
        "colab": {
          "base_uri": "https://localhost:8080/"
        },
        "outputId": "b1939afd-f218-4759-fe89-d6506646035c"
      },
      "source": [
        "np.max(a_retornos)"
      ],
      "execution_count": 18,
      "outputs": [
        {
          "output_type": "execute_result",
          "data": {
            "text/plain": [
              "2.506276801325959"
            ]
          },
          "metadata": {
            "tags": []
          },
          "execution_count": 18
        }
      ]
    },
    {
      "cell_type": "markdown",
      "metadata": {
        "id": "OTB9HnIac499"
      },
      "source": [
        "___\n",
        "# **Ordenar itens de um array**\n",
        "> Considere o array a seguir:"
      ]
    },
    {
      "cell_type": "code",
      "metadata": {
        "id": "Jgj8Yw46dBMx",
        "colab": {
          "base_uri": "https://localhost:8080/"
        },
        "outputId": "41b55086-b91e-4855-fa66-24c882f01e98"
      },
      "source": [
        "np.random.seed(20111974)\n",
        "a_conjunto1 = np.random.random(10)\n",
        "a_conjunto1"
      ],
      "execution_count": 19,
      "outputs": [
        {
          "output_type": "execute_result",
          "data": {
            "text/plain": [
              "array([0.53097233, 0.56965626, 0.54252938, 0.65478409, 0.85708456,\n",
              "       0.60174181, 0.87298309, 0.45573342, 0.67336717, 0.64300912])"
            ]
          },
          "metadata": {
            "tags": []
          },
          "execution_count": 19
        }
      ]
    },
    {
      "cell_type": "markdown",
      "metadata": {
        "id": "cC9272GFdRln"
      },
      "source": [
        "Ordenando os itens de a_conjunto1..."
      ]
    },
    {
      "cell_type": "code",
      "metadata": {
        "id": "YUP90nBVdUeF",
        "colab": {
          "base_uri": "https://localhost:8080/"
        },
        "outputId": "dd538ce7-5a5b-4bdb-8eb7-b45062592f64"
      },
      "source": [
        "np.sort(a_conjunto1)"
      ],
      "execution_count": 20,
      "outputs": [
        {
          "output_type": "execute_result",
          "data": {
            "text/plain": [
              "array([0.45573342, 0.53097233, 0.54252938, 0.56965626, 0.60174181,\n",
              "       0.64300912, 0.65478409, 0.67336717, 0.85708456, 0.87298309])"
            ]
          },
          "metadata": {
            "tags": []
          },
          "execution_count": 20
        }
      ]
    },
    {
      "cell_type": "markdown",
      "metadata": {
        "id": "lG763cDGj-yB"
      },
      "source": [
        "___\n",
        "# **Obter ajuda**"
      ]
    },
    {
      "cell_type": "code",
      "metadata": {
        "id": "ehxPlD3EkEYL",
        "colab": {
          "base_uri": "https://localhost:8080/"
        },
        "outputId": "e3c82e14-c8d2-4b3c-9387-ee4f76851a03"
      },
      "source": [
        "help(np.random.normal)"
      ],
      "execution_count": 21,
      "outputs": [
        {
          "output_type": "stream",
          "text": [
            "Help on built-in function normal:\n",
            "\n",
            "normal(...) method of numpy.random.mtrand.RandomState instance\n",
            "    normal(loc=0.0, scale=1.0, size=None)\n",
            "    \n",
            "    Draw random samples from a normal (Gaussian) distribution.\n",
            "    \n",
            "    The probability density function of the normal distribution, first\n",
            "    derived by De Moivre and 200 years later by both Gauss and Laplace\n",
            "    independently [2]_, is often called the bell curve because of\n",
            "    its characteristic shape (see the example below).\n",
            "    \n",
            "    The normal distributions occurs often in nature.  For example, it\n",
            "    describes the commonly occurring distribution of samples influenced\n",
            "    by a large number of tiny, random disturbances, each with its own\n",
            "    unique distribution [2]_.\n",
            "    \n",
            "    .. note::\n",
            "        New code should use the ``normal`` method of a ``default_rng()``\n",
            "        instance instead; please see the :ref:`random-quick-start`.\n",
            "    \n",
            "    Parameters\n",
            "    ----------\n",
            "    loc : float or array_like of floats\n",
            "        Mean (\"centre\") of the distribution.\n",
            "    scale : float or array_like of floats\n",
            "        Standard deviation (spread or \"width\") of the distribution. Must be\n",
            "        non-negative.\n",
            "    size : int or tuple of ints, optional\n",
            "        Output shape.  If the given shape is, e.g., ``(m, n, k)``, then\n",
            "        ``m * n * k`` samples are drawn.  If size is ``None`` (default),\n",
            "        a single value is returned if ``loc`` and ``scale`` are both scalars.\n",
            "        Otherwise, ``np.broadcast(loc, scale).size`` samples are drawn.\n",
            "    \n",
            "    Returns\n",
            "    -------\n",
            "    out : ndarray or scalar\n",
            "        Drawn samples from the parameterized normal distribution.\n",
            "    \n",
            "    See Also\n",
            "    --------\n",
            "    scipy.stats.norm : probability density function, distribution or\n",
            "        cumulative density function, etc.\n",
            "    Generator.normal: which should be used for new code.\n",
            "    \n",
            "    Notes\n",
            "    -----\n",
            "    The probability density for the Gaussian distribution is\n",
            "    \n",
            "    .. math:: p(x) = \\frac{1}{\\sqrt{ 2 \\pi \\sigma^2 }}\n",
            "                     e^{ - \\frac{ (x - \\mu)^2 } {2 \\sigma^2} },\n",
            "    \n",
            "    where :math:`\\mu` is the mean and :math:`\\sigma` the standard\n",
            "    deviation. The square of the standard deviation, :math:`\\sigma^2`,\n",
            "    is called the variance.\n",
            "    \n",
            "    The function has its peak at the mean, and its \"spread\" increases with\n",
            "    the standard deviation (the function reaches 0.607 times its maximum at\n",
            "    :math:`x + \\sigma` and :math:`x - \\sigma` [2]_).  This implies that\n",
            "    normal is more likely to return samples lying close to the mean, rather\n",
            "    than those far away.\n",
            "    \n",
            "    References\n",
            "    ----------\n",
            "    .. [1] Wikipedia, \"Normal distribution\",\n",
            "           https://en.wikipedia.org/wiki/Normal_distribution\n",
            "    .. [2] P. R. Peebles Jr., \"Central Limit Theorem\" in \"Probability,\n",
            "           Random Variables and Random Signal Principles\", 4th ed., 2001,\n",
            "           pp. 51, 51, 125.\n",
            "    \n",
            "    Examples\n",
            "    --------\n",
            "    Draw samples from the distribution:\n",
            "    \n",
            "    >>> mu, sigma = 0, 0.1 # mean and standard deviation\n",
            "    >>> s = np.random.normal(mu, sigma, 1000)\n",
            "    \n",
            "    Verify the mean and the variance:\n",
            "    \n",
            "    >>> abs(mu - np.mean(s))\n",
            "    0.0  # may vary\n",
            "    \n",
            "    >>> abs(sigma - np.std(s, ddof=1))\n",
            "    0.1  # may vary\n",
            "    \n",
            "    Display the histogram of the samples, along with\n",
            "    the probability density function:\n",
            "    \n",
            "    >>> import matplotlib.pyplot as plt\n",
            "    >>> count, bins, ignored = plt.hist(s, 30, density=True)\n",
            "    >>> plt.plot(bins, 1/(sigma * np.sqrt(2 * np.pi)) *\n",
            "    ...                np.exp( - (bins - mu)**2 / (2 * sigma**2) ),\n",
            "    ...          linewidth=2, color='r')\n",
            "    >>> plt.show()\n",
            "    \n",
            "    Two-by-four array of samples from N(3, 6.25):\n",
            "    \n",
            "    >>> np.random.normal(3, 2.5, size=(2, 4))\n",
            "    array([[-4.49401501,  4.00950034, -1.81814867,  7.29718677],   # random\n",
            "           [ 0.39924804,  4.68456316,  4.99394529,  4.84057254]])  # random\n",
            "\n"
          ],
          "name": "stdout"
        }
      ]
    },
    {
      "cell_type": "markdown",
      "metadata": {
        "id": "1Q_konJVaBsV"
      },
      "source": [
        "___\n",
        "# **Criar arrays 1D**"
      ]
    },
    {
      "cell_type": "code",
      "metadata": {
        "id": "DddZT5kadYJ7"
      },
      "source": [
        "import numpy as np\n",
        "np.set_printoptions(precision = 2, suppress = True)\n",
        "np.random.seed(seed = 20111974)"
      ],
      "execution_count": null,
      "outputs": []
    },
    {
      "cell_type": "markdown",
      "metadata": {
        "id": "jaqd-VnF3yIt"
      },
      "source": [
        "Criar o array 1D a_conjunto1, com os seguintes números:"
      ]
    },
    {
      "cell_type": "code",
      "metadata": {
        "id": "E3niz_zHaF3e"
      },
      "source": [
        "a_conjunto1 = np.array([0, 1, 2, 3, 4, 5, 6, 7, 8, 9])\n",
        "a_conjunto1"
      ],
      "execution_count": null,
      "outputs": []
    },
    {
      "cell_type": "markdown",
      "metadata": {
        "id": "DyfXbW_ZKJBS"
      },
      "source": [
        "Qual a dimensão de a_conjunto1?"
      ]
    },
    {
      "cell_type": "code",
      "metadata": {
        "id": "gbHlydALKB3R"
      },
      "source": [
        "# Dimensão do array\n",
        "a_conjunto1.ndim"
      ],
      "execution_count": null,
      "outputs": []
    },
    {
      "cell_type": "markdown",
      "metadata": {
        "id": "am9otElpKNPa"
      },
      "source": [
        "Qual o shape (dimensão) do array a_conjunto1?"
      ]
    },
    {
      "cell_type": "code",
      "metadata": {
        "id": "juJJ74d2wale"
      },
      "source": [
        "# Números de itens no array\n",
        "a_conjunto1.shape"
      ],
      "execution_count": null,
      "outputs": []
    },
    {
      "cell_type": "markdown",
      "metadata": {
        "id": "BHg4Rre3GwPy"
      },
      "source": [
        "O array a_conjunto1 poderia ter sido criado usando a função np.arange(inicio, fim, step):"
      ]
    },
    {
      "cell_type": "code",
      "metadata": {
        "id": "I3fyusN7G5Zn"
      },
      "source": [
        "# Lembre-se que o número 10 é exclusive.\n",
        "a_conjunto2 = np.arange(start = 0, stop = 10, step = 1)"
      ],
      "execution_count": null,
      "outputs": []
    },
    {
      "cell_type": "markdown",
      "metadata": {
        "id": "IHCEpmUxXsaK"
      },
      "source": [
        "Outra alternativa seria usar np.linspace(start = 0, stop = 10, num = 9). Acompanhe a seguir:"
      ]
    },
    {
      "cell_type": "code",
      "metadata": {
        "id": "JB9Y_x3RX1GX"
      },
      "source": [
        "# Com np.linspace, o valor 9 é inclusive.\n",
        "a_conjunto3 = np.linspace(0, 9, 10)"
      ],
      "execution_count": null,
      "outputs": []
    },
    {
      "cell_type": "markdown",
      "metadata": {
        "id": "P6MR8MPeYOZm"
      },
      "source": [
        "Compare os resultados de a_conjunto1, a_conjunto2 e a_conjunto3 a seguir:"
      ]
    },
    {
      "cell_type": "code",
      "metadata": {
        "id": "tWEzge6HYSFu"
      },
      "source": [
        "a_conjunto1"
      ],
      "execution_count": null,
      "outputs": []
    },
    {
      "cell_type": "code",
      "metadata": {
        "id": "lUNlFVKYYT9f"
      },
      "source": [
        "a_conjunto2"
      ],
      "execution_count": null,
      "outputs": []
    },
    {
      "cell_type": "code",
      "metadata": {
        "id": "Xo8Lid5fYVPW"
      },
      "source": [
        "a_conjunto3"
      ],
      "execution_count": null,
      "outputs": []
    },
    {
      "cell_type": "markdown",
      "metadata": {
        "id": "V9aW7C4vHAcF"
      },
      "source": [
        "Ou seja, a_conjunto1 é igual a a_conjunto2 que também é igual a a_conjunto3. Ok?\n",
        "\n",
        "**ATENÇÃO**: Observe que a sintaxe para criar a_conjunto3 é ligeiramente diferente da sintaxe usada para criar a_conjunto1 e a_conjunto2. Abaixo, a sintaxe do comando np.linspace:\n",
        "\n",
        "![](https://github.com/MathMachado/Materials/blob/master/linspace_sintaxe.PNG?raw=true)\n",
        "\n",
        "Source: [HOW TO USE THE NUMPY LINSPACE FUNCTION](https://www.sharpsightlabs.com/blog/numpy-linspace/)"
      ]
    },
    {
      "cell_type": "markdown",
      "metadata": {
        "id": "KNnwZa3uvYqE"
      },
      "source": [
        "Soma 2 à cada item de a_conjunto1:"
      ]
    },
    {
      "cell_type": "code",
      "metadata": {
        "id": "Jt2KVyviw0bp"
      },
      "source": [
        "a_conjunto1"
      ],
      "execution_count": null,
      "outputs": []
    },
    {
      "cell_type": "code",
      "metadata": {
        "id": "arROkhWXbdTW"
      },
      "source": [
        "a_conjunto2 = a_conjunto1 + 2\n",
        "a_conjunto2"
      ],
      "execution_count": null,
      "outputs": []
    },
    {
      "cell_type": "markdown",
      "metadata": {
        "id": "ZJx2vG86vdVi"
      },
      "source": [
        "Multiplicar por 10 cada item de a_conjunto1:"
      ]
    },
    {
      "cell_type": "code",
      "metadata": {
        "id": "Vm7abO6Ebkun"
      },
      "source": [
        "a_conjunto1 = a_conjunto1*10\n",
        "a_conjunto1"
      ],
      "execution_count": null,
      "outputs": []
    },
    {
      "cell_type": "markdown",
      "metadata": {
        "id": "0Ev1xnBwaYJG"
      },
      "source": [
        "___\n",
        "# **Criar Arrays Multidimensionais**\n",
        "> Ao criarmos, por exemplo, um array 2D, então a chamamos de matriz."
      ]
    },
    {
      "cell_type": "markdown",
      "metadata": {
        "id": "gHaeAug5vjjd"
      },
      "source": [
        "Criar o array com 2 linhas e 3 colunas usando números aleatórios:"
      ]
    },
    {
      "cell_type": "code",
      "metadata": {
        "id": "VDi0vIPSYR4F"
      },
      "source": [
        "np.random.seed(20111974)\n",
        "a_conjunto1 = np.random.randn(2, 3)\n",
        "a_conjunto1"
      ],
      "execution_count": null,
      "outputs": []
    },
    {
      "cell_type": "markdown",
      "metadata": {
        "id": "DIdd-nA3tJjV"
      },
      "source": [
        "## Dimensão de um array\n",
        "> Dimensão é o número de linhas e colunas da matriz."
      ]
    },
    {
      "cell_type": "code",
      "metadata": {
        "id": "pKvjjnkrK-v7"
      },
      "source": [
        "a_conjunto1.shape"
      ],
      "execution_count": null,
      "outputs": []
    },
    {
      "cell_type": "markdown",
      "metadata": {
        "id": "-DHS5jXELCfa"
      },
      "source": [
        "a_conjunto1 é um array 2D (ou matriz), ou seja, 2 linhas, onde cada linha tem 3 elementos."
      ]
    },
    {
      "cell_type": "markdown",
      "metadata": {
        "id": "HJI6X1wvv4Bg"
      },
      "source": [
        "Criar um array com 3 linhas e 3 colunas:"
      ]
    },
    {
      "cell_type": "code",
      "metadata": {
        "id": "hXPbWh3Tv26T",
        "colab": {
          "base_uri": "https://localhost:8080/"
        },
        "outputId": "69f7f9bb-d906-4dea-f4c7-8366b592f752"
      },
      "source": [
        "a_conjunto2 = np.array([[1, 2, 3],[4, 5, 6],[7, 8, 9]])\n",
        "a_conjunto2"
      ],
      "execution_count": 23,
      "outputs": [
        {
          "output_type": "execute_result",
          "data": {
            "text/plain": [
              "array([[1, 2, 3],\n",
              "       [4, 5, 6],\n",
              "       [7, 8, 9]])"
            ]
          },
          "metadata": {
            "tags": []
          },
          "execution_count": 23
        }
      ]
    },
    {
      "cell_type": "code",
      "metadata": {
        "id": "we6ZJOICc7bQ"
      },
      "source": [
        "# Número de linhas e colunas de a_conjunto1:\n",
        "a_conjunto1.shape"
      ],
      "execution_count": null,
      "outputs": []
    },
    {
      "cell_type": "code",
      "metadata": {
        "id": "f0ocwuI1dED6"
      },
      "source": [
        "# Número de linhas e colunas de a_conjunto2\n",
        "a_conjunto2.shape"
      ],
      "execution_count": null,
      "outputs": []
    },
    {
      "cell_type": "code",
      "metadata": {
        "id": "CApPtnW0YuRP"
      },
      "source": [
        "# Somar 2 à cada elemento de a_conjunto2\n",
        "a_conjunto2 = a_conjunto2+2\n",
        "a_conjunto2"
      ],
      "execution_count": null,
      "outputs": []
    },
    {
      "cell_type": "code",
      "metadata": {
        "id": "M87aGmxRY3RW"
      },
      "source": [
        "# Multiplicar por 10 cada elemento de a_conjunto2\n",
        "a_conjunto2 = a_conjunto2*10\n",
        "a_conjunto2"
      ],
      "execution_count": null,
      "outputs": []
    },
    {
      "cell_type": "markdown",
      "metadata": {
        "id": "qZt93y1IL_v7"
      },
      "source": [
        "___\n",
        "# **Copiar arrays**\n",
        "> Considere o array abaixo:"
      ]
    },
    {
      "cell_type": "code",
      "metadata": {
        "id": "sH2FTXj5MRRC"
      },
      "source": [
        "np.random.seed(20111974)\n",
        "a_conjunto1 = np.random.randn(2, 3)\n",
        "a_conjunto1"
      ],
      "execution_count": null,
      "outputs": []
    },
    {
      "cell_type": "markdown",
      "metadata": {
        "id": "VtgKeMt6MYrr"
      },
      "source": [
        "Fazendo a cópia de a_conjunto1..."
      ]
    },
    {
      "cell_type": "code",
      "metadata": {
        "id": "K0hOHR3IMa-o"
      },
      "source": [
        "a_salarios_copia = a_conjunto1.copy()\n",
        "a_salarios_copia"
      ],
      "execution_count": null,
      "outputs": []
    },
    {
      "cell_type": "markdown",
      "metadata": {
        "id": "lFpmcR0HkCar"
      },
      "source": [
        "___\n",
        "# **Operações com arrays**\n",
        "> Considere um array com temperaturas em Farenheit dado por:"
      ]
    },
    {
      "cell_type": "code",
      "metadata": {
        "id": "VnagcUqVkLhW"
      },
      "source": [
        "# Define a seed\n",
        "np.random.seed(20111974)\n",
        "\n",
        "a_temperatura_farenheit = np.array(np.random.randint(0, 100, 10))\n",
        "a_temperatura_farenheit                                        "
      ],
      "execution_count": null,
      "outputs": []
    },
    {
      "cell_type": "code",
      "metadata": {
        "id": "VrjNKfXxk1yv"
      },
      "source": [
        "type(a_temperatura_farenheit)"
      ],
      "execution_count": null,
      "outputs": []
    },
    {
      "cell_type": "markdown",
      "metadata": {
        "id": "o1STejhrk0kZ"
      },
      "source": [
        "Transformando a temperatura Fahrenheit em Celsius..."
      ]
    },
    {
      "cell_type": "code",
      "metadata": {
        "id": "E_jXflR_lNy3"
      },
      "source": [
        "a_temperatura_celsius = 5*a_temperatura_farenheit/9 - 5*32/9\n",
        "a_temperatura_celsius"
      ],
      "execution_count": null,
      "outputs": []
    },
    {
      "cell_type": "code",
      "metadata": {
        "id": "U4pCv0pNqPZI"
      },
      "source": [
        "# O mesmo resultado, porém, escrito de forma diferente:\n",
        "a_temperatura_celsius = (5/9)*a_temperatura_farenheit - (160/9)\n",
        "a_temperatura_celsius"
      ],
      "execution_count": null,
      "outputs": []
    },
    {
      "cell_type": "markdown",
      "metadata": {
        "id": "1UT4YD2FawUA"
      },
      "source": [
        "___\n",
        "# **Selecionar itens**"
      ]
    },
    {
      "cell_type": "code",
      "metadata": {
        "id": "pqOv8P1za1m8"
      },
      "source": [
        "# Selecionar o segundo item de a_conjunto1 (lembre-se que no Python arrays começam com indice = 0)\n",
        "a_conjunto1[1]"
      ],
      "execution_count": null,
      "outputs": []
    },
    {
      "cell_type": "markdown",
      "metadata": {
        "id": "TIwVKk6AyRv6"
      },
      "source": [
        "Dado a_conjunto2 abaixo:"
      ]
    },
    {
      "cell_type": "code",
      "metadata": {
        "id": "zoDmbXo6bCeu"
      },
      "source": [
        "a_conjunto2"
      ],
      "execution_count": null,
      "outputs": []
    },
    {
      "cell_type": "markdown",
      "metadata": {
        "id": "iJXSPp-0yb4w"
      },
      "source": [
        "... selecionar o item da linha 2, coluna 3 do array a_conjunto2:"
      ]
    },
    {
      "cell_type": "code",
      "metadata": {
        "id": "sJiVfnlzcjRv"
      },
      "source": [
        "a_conjunto2[1, 2]"
      ],
      "execution_count": null,
      "outputs": []
    },
    {
      "cell_type": "code",
      "metadata": {
        "id": "Xl5HwJIMcv2e"
      },
      "source": [
        "# Selecionar o último elemento de a_conjunto1 --> Lembre-se que a_conjunto1 é um array. Desta forma, teremos o último elemento do array!\n",
        "a_conjunto1[-1]"
      ],
      "execution_count": null,
      "outputs": []
    },
    {
      "cell_type": "markdown",
      "metadata": {
        "id": "ezTH0HsyrnAl"
      },
      "source": [
        "Veja..."
      ]
    },
    {
      "cell_type": "code",
      "metadata": {
        "id": "OBv9EM54rYX3"
      },
      "source": [
        "a_conjunto1"
      ],
      "execution_count": null,
      "outputs": []
    },
    {
      "cell_type": "code",
      "metadata": {
        "id": "Po3WLFC-rod8"
      },
      "source": [
        "a_temperatura_celsius[-1]"
      ],
      "execution_count": null,
      "outputs": []
    },
    {
      "cell_type": "markdown",
      "metadata": {
        "id": "4qJJ2HCedW4h"
      },
      "source": [
        "___\n",
        "# **Aplicar funções como max(), min() e etc**"
      ]
    },
    {
      "cell_type": "code",
      "metadata": {
        "id": "_meTJdUsda4e"
      },
      "source": [
        "f'O máximo de a_conjunto1 é: {np.max(a_conjunto1)}'"
      ],
      "execution_count": null,
      "outputs": []
    },
    {
      "cell_type": "code",
      "metadata": {
        "id": "m-wiBkAidnhN"
      },
      "source": [
        "f'O mínimo de a_conjunto1 é: {np.min(a_conjunto1)}'"
      ],
      "execution_count": null,
      "outputs": []
    },
    {
      "cell_type": "code",
      "metadata": {
        "id": "lmupnRHQdtwh"
      },
      "source": [
        "f'O máximo de a_conjunto2 é: {np.max(a_conjunto2)}'"
      ],
      "execution_count": null,
      "outputs": []
    },
    {
      "cell_type": "code",
      "metadata": {
        "id": "H2z7oB6Bd786"
      },
      "source": [
        "f'O máximo de cada LINHA de a_conjunto2 é: {np.max(a_conjunto2, axis = 1)}' # Aqui, axis = 1 é que diz ao numpy que estamos interessados nas linhas"
      ],
      "execution_count": null,
      "outputs": []
    },
    {
      "cell_type": "code",
      "metadata": {
        "id": "gj2ZBDsWeMyk"
      },
      "source": [
        "f'O máximo de cada COLUNA de a_conjunto2 é: {np.max(a_conjunto2, axis = 0)}' # axis = 0, diz ao numpy que estamos interessados nas colunas."
      ],
      "execution_count": null,
      "outputs": []
    },
    {
      "cell_type": "markdown",
      "metadata": {
        "id": "7_tEfm2IecIU"
      },
      "source": [
        "___\n",
        "# **Calcular Estatísticas Descritivas: média e variância**"
      ]
    },
    {
      "cell_type": "code",
      "metadata": {
        "id": "lIY5jx3ueh7q"
      },
      "source": [
        "f'A média de a_conjunto1 é: {np.mean(a_conjunto1)}'"
      ],
      "execution_count": null,
      "outputs": []
    },
    {
      "cell_type": "code",
      "metadata": {
        "id": "VmqSELRReuAW"
      },
      "source": [
        "f'A média de a_conjunto2 é: {np.mean(a_conjunto2)}'"
      ],
      "execution_count": null,
      "outputs": []
    },
    {
      "cell_type": "code",
      "metadata": {
        "id": "Gxap-Wg5e2_H"
      },
      "source": [
        "f'O Desvio Padrão de a_conjunto2 é: {np.std(a_conjunto2)}'"
      ],
      "execution_count": null,
      "outputs": []
    },
    {
      "cell_type": "markdown",
      "metadata": {
        "id": "R0GcljGtfBvP"
      },
      "source": [
        "___\n",
        "# **Reshaping**\n",
        "> Muito útil em Machine Learning."
      ]
    },
    {
      "cell_type": "markdown",
      "metadata": {
        "id": "vfEmw01j8zux"
      },
      "source": [
        "## Exemplo 1\n",
        "* O array a_conjunto2 tem a seguinte forma:"
      ]
    },
    {
      "cell_type": "code",
      "metadata": {
        "id": "-Lb3VZCCfK_a",
        "colab": {
          "base_uri": "https://localhost:8080/"
        },
        "outputId": "e0071e7b-72c9-4445-c394-21a52e2d882e"
      },
      "source": [
        "a_conjunto2"
      ],
      "execution_count": 24,
      "outputs": [
        {
          "output_type": "execute_result",
          "data": {
            "text/plain": [
              "array([[1, 2, 3],\n",
              "       [4, 5, 6],\n",
              "       [7, 8, 9]])"
            ]
          },
          "metadata": {
            "tags": []
          },
          "execution_count": 24
        }
      ]
    },
    {
      "cell_type": "code",
      "metadata": {
        "id": "YWN_nN-4fD7u",
        "colab": {
          "base_uri": "https://localhost:8080/"
        },
        "outputId": "0bd16070-63c8-4608-82fd-175916169227"
      },
      "source": [
        "# reshaping para 9 linhas e 1 coluna:\n",
        "a_conjunto2.reshape(9, 1) # a_conjunto2.reshape(9,-1) produz o mesmo resultado."
      ],
      "execution_count": 25,
      "outputs": [
        {
          "output_type": "execute_result",
          "data": {
            "text/plain": [
              "array([[1],\n",
              "       [2],\n",
              "       [3],\n",
              "       [4],\n",
              "       [5],\n",
              "       [6],\n",
              "       [7],\n",
              "       [8],\n",
              "       [9]])"
            ]
          },
          "metadata": {
            "tags": []
          },
          "execution_count": 25
        }
      ]
    },
    {
      "cell_type": "markdown",
      "metadata": {
        "id": "id9ILRRt7SwY"
      },
      "source": [
        "## Mais um exemplo de Reshape\n",
        "> Dado o array 1D abaixo, reshape para um array 3D com 2 colunas."
      ]
    },
    {
      "cell_type": "code",
      "metadata": {
        "id": "9RA9Ht2b7Swd",
        "colab": {
          "base_uri": "https://localhost:8080/"
        },
        "outputId": "2cfabd61-aacd-40b6-e4bf-dad0a8acdf4c"
      },
      "source": [
        "# Define seed\n",
        "np.random.seed(20111974)\n",
        "a_conjunto1 = np.array(np.random.randint(1, 10, size = 15))\n",
        "a_conjunto1"
      ],
      "execution_count": 26,
      "outputs": [
        {
          "output_type": "execute_result",
          "data": {
            "text/plain": [
              "array([9, 9, 3, 9, 2, 9, 1, 5, 3, 1, 9, 4, 8, 2, 4])"
            ]
          },
          "metadata": {
            "tags": []
          },
          "execution_count": 26
        }
      ]
    },
    {
      "cell_type": "markdown",
      "metadata": {
        "id": "8KxR4xZT7cRv"
      },
      "source": [
        "### Solução\n",
        "> Temos 15 elementos em a_conjunto1 para construir (\"reshape\") um array 3D com 2 colunas.\n",
        "\n",
        "A princípio, a solução seria..."
      ]
    },
    {
      "cell_type": "code",
      "metadata": {
        "id": "VMdHl1Il7wLw",
        "colab": {
          "base_uri": "https://localhost:8080/",
          "height": 163
        },
        "outputId": "d51c7263-f523-4af8-9606-ee93cab66f1c"
      },
      "source": [
        "a_conjunto1.reshape(-1, 2) # O valor \"-1\" na posição das linhas pede ao NumPy para calcular o número de linhas automaticamente."
      ],
      "execution_count": null,
      "outputs": [
        {
          "output_type": "error",
          "ename": "ValueError",
          "evalue": "ignored",
          "traceback": [
            "\u001b[0;31m---------------------------------------------------------------------------\u001b[0m",
            "\u001b[0;31mValueError\u001b[0m                                Traceback (most recent call last)",
            "\u001b[0;32m<ipython-input-20-5c1eeb799b8d>\u001b[0m in \u001b[0;36m<module>\u001b[0;34m()\u001b[0m\n\u001b[0;32m----> 1\u001b[0;31m \u001b[0ma_numeros1\u001b[0m\u001b[0;34m.\u001b[0m\u001b[0mreshape\u001b[0m\u001b[0;34m(\u001b[0m\u001b[0;34m-\u001b[0m\u001b[0;36m1\u001b[0m\u001b[0;34m,\u001b[0m \u001b[0;36m2\u001b[0m\u001b[0;34m)\u001b[0m \u001b[0;31m# O valor \"-1\" na posição das linhas pede ao NumPy para calcular o número de linhas automaticamente.\u001b[0m\u001b[0;34m\u001b[0m\u001b[0;34m\u001b[0m\u001b[0m\n\u001b[0m",
            "\u001b[0;31mValueError\u001b[0m: cannot reshape array of size 15 into shape (2)"
          ]
        }
      ]
    },
    {
      "cell_type": "markdown",
      "metadata": {
        "id": "pZS4b4-y708q"
      },
      "source": [
        "Porque temos esse erro?"
      ]
    },
    {
      "cell_type": "markdown",
      "metadata": {
        "id": "4disywvR8HeH"
      },
      "source": [
        "E se fizermos..."
      ]
    },
    {
      "cell_type": "code",
      "metadata": {
        "id": "3oEAAXTp8I7Z",
        "colab": {
          "base_uri": "https://localhost:8080/",
          "height": 34
        },
        "outputId": "e8c8a90f-c34a-4304-d9b4-fd7f04ce224f"
      },
      "source": [
        "# Define seed\n",
        "np.random.seed(20111974)\n",
        "a_conjunto1 = np.array(np.random.randint(1, 10, size = 16)) # Observe que agora temos 16 elementos\n",
        "a_conjunto1"
      ],
      "execution_count": null,
      "outputs": [
        {
          "output_type": "execute_result",
          "data": {
            "text/plain": [
              "array([9, 9, 3, 9, 2, 9, 1, 5, 3, 1, 9, 4, 8, 2, 4, 3])"
            ]
          },
          "metadata": {
            "tags": []
          },
          "execution_count": 21
        }
      ]
    },
    {
      "cell_type": "markdown",
      "metadata": {
        "id": "iUhth0QV8Rpt"
      },
      "source": [
        "Reshapping..."
      ]
    },
    {
      "cell_type": "code",
      "metadata": {
        "id": "9D1y7uD88Qip",
        "colab": {
          "base_uri": "https://localhost:8080/",
          "height": 153
        },
        "outputId": "e7d22bcd-c10f-4ea3-e41b-03f6f98a054f"
      },
      "source": [
        "a_conjunto1.reshape(-1, 2) # O valor \"-1\" na posição das linhas pede ao NumPy para calcular o número de linhas automaticamente."
      ],
      "execution_count": null,
      "outputs": [
        {
          "output_type": "execute_result",
          "data": {
            "text/plain": [
              "array([[9, 9],\n",
              "       [3, 9],\n",
              "       [2, 9],\n",
              "       [1, 5],\n",
              "       [3, 1],\n",
              "       [9, 4],\n",
              "       [8, 2],\n",
              "       [4, 3]])"
            ]
          },
          "metadata": {
            "tags": []
          },
          "execution_count": 22
        }
      ]
    },
    {
      "cell_type": "code",
      "metadata": {
        "id": "ALh-sq7DMnN5",
        "colab": {
          "base_uri": "https://localhost:8080/",
          "height": 153
        },
        "outputId": "db373349-7910-4f1f-93f3-8ac8f67da8b8"
      },
      "source": [
        "# OU --> Neste caso, estamos reshaping o array em 8 linhas e 2 colunas\n",
        "a_conjunto1.reshape(8, -1)"
      ],
      "execution_count": null,
      "outputs": [
        {
          "output_type": "execute_result",
          "data": {
            "text/plain": [
              "array([[9, 9],\n",
              "       [3, 9],\n",
              "       [2, 9],\n",
              "       [1, 5],\n",
              "       [3, 1],\n",
              "       [9, 4],\n",
              "       [8, 2],\n",
              "       [4, 3]])"
            ]
          },
          "metadata": {
            "tags": []
          },
          "execution_count": 26
        }
      ]
    },
    {
      "cell_type": "markdown",
      "metadata": {
        "id": "yvTnrszn8Yk0"
      },
      "source": [
        "Porque agora deu certo?"
      ]
    },
    {
      "cell_type": "markdown",
      "metadata": {
        "id": "LeQ9LqIE8baG"
      },
      "source": [
        "## Último exemplo com reshape\n",
        "> Considere o array a seguir:"
      ]
    },
    {
      "cell_type": "code",
      "metadata": {
        "id": "OQOC9iiN8hZT",
        "colab": {
          "base_uri": "https://localhost:8080/"
        },
        "outputId": "29787394-a40d-4df1-baae-e8acd41d24ed"
      },
      "source": [
        "np.random.seed(20111974)\n",
        "a_conjunto1 = np.random.randn(2, 3)\n",
        "a_conjunto1"
      ],
      "execution_count": 27,
      "outputs": [
        {
          "output_type": "execute_result",
          "data": {
            "text/plain": [
              "array([[2.5062768 , 1.11440422, 2.05565501],\n",
              "       [0.56482376, 0.29897276, 1.04930857]])"
            ]
          },
          "metadata": {
            "tags": []
          },
          "execution_count": 27
        }
      ]
    },
    {
      "cell_type": "markdown",
      "metadata": {
        "id": "Cvce8qBl9Cvq"
      },
      "source": [
        "Queremos agora transformá-la num array de 3 linhas e 2 colunas."
      ]
    },
    {
      "cell_type": "code",
      "metadata": {
        "id": "QDDsYoVt9Klz",
        "colab": {
          "base_uri": "https://localhost:8080/"
        },
        "outputId": "71d8a1f8-7a7b-4b0b-83b7-c826c7144856"
      },
      "source": [
        "a_conjunto1.reshape(-1, 2)"
      ],
      "execution_count": 28,
      "outputs": [
        {
          "output_type": "execute_result",
          "data": {
            "text/plain": [
              "array([[2.5062768 , 1.11440422],\n",
              "       [2.05565501, 0.56482376],\n",
              "       [0.29897276, 1.04930857]])"
            ]
          },
          "metadata": {
            "tags": []
          },
          "execution_count": 28
        }
      ]
    },
    {
      "cell_type": "markdown",
      "metadata": {
        "id": "AdwU5ygt9Svq"
      },
      "source": [
        "Poderia ser..."
      ]
    },
    {
      "cell_type": "code",
      "metadata": {
        "id": "5uBeokKc9Uo-",
        "colab": {
          "base_uri": "https://localhost:8080/"
        },
        "outputId": "a2ea7235-0bf0-449a-bb95-a1d3989d8a2f"
      },
      "source": [
        "a_conjunto1.reshape(3, -1)"
      ],
      "execution_count": 29,
      "outputs": [
        {
          "output_type": "execute_result",
          "data": {
            "text/plain": [
              "array([[2.5062768 , 1.11440422],\n",
              "       [2.05565501, 0.56482376],\n",
              "       [0.29897276, 1.04930857]])"
            ]
          },
          "metadata": {
            "tags": []
          },
          "execution_count": 29
        }
      ]
    },
    {
      "cell_type": "markdown",
      "metadata": {
        "id": "OeRBsobc9aKj"
      },
      "source": [
        "E por fim, também poderia ser..."
      ]
    },
    {
      "cell_type": "code",
      "metadata": {
        "id": "MDt8UYYH9dBw",
        "colab": {
          "base_uri": "https://localhost:8080/"
        },
        "outputId": "20a66d3d-9e95-44c3-eca4-2ed6387c3dc8"
      },
      "source": [
        "a_conjunto1.reshape(3, 2)"
      ],
      "execution_count": 30,
      "outputs": [
        {
          "output_type": "execute_result",
          "data": {
            "text/plain": [
              "array([[2.5062768 , 1.11440422],\n",
              "       [2.05565501, 0.56482376],\n",
              "       [0.29897276, 1.04930857]])"
            ]
          },
          "metadata": {
            "tags": []
          },
          "execution_count": 30
        }
      ]
    },
    {
      "cell_type": "markdown",
      "metadata": {
        "id": "91o5vycQfdKW"
      },
      "source": [
        "___\n",
        "# **Transposta**\n",
        "* O array a_conjunto2 tem a seguinte forma:"
      ]
    },
    {
      "cell_type": "code",
      "metadata": {
        "id": "RsZwyuhoffjb",
        "colab": {
          "base_uri": "https://localhost:8080/"
        },
        "outputId": "14d065a5-5481-4145-edfa-1a1c450a378d"
      },
      "source": [
        "a_conjunto2"
      ],
      "execution_count": 31,
      "outputs": [
        {
          "output_type": "execute_result",
          "data": {
            "text/plain": [
              "array([[1, 2, 3],\n",
              "       [4, 5, 6],\n",
              "       [7, 8, 9]])"
            ]
          },
          "metadata": {
            "tags": []
          },
          "execution_count": 31
        }
      ]
    },
    {
      "cell_type": "code",
      "metadata": {
        "id": "A3MzTVoGfiyO",
        "colab": {
          "base_uri": "https://localhost:8080/"
        },
        "outputId": "8f1ebe5c-75c5-4fb1-dc4d-5f4244cad44e"
      },
      "source": [
        "# Transposta do array a_conjunto2 é dado por:\n",
        "a_conjunto2.T"
      ],
      "execution_count": 32,
      "outputs": [
        {
          "output_type": "execute_result",
          "data": {
            "text/plain": [
              "array([[1, 4, 7],\n",
              "       [2, 5, 8],\n",
              "       [3, 6, 9]])"
            ]
          },
          "metadata": {
            "tags": []
          },
          "execution_count": 32
        }
      ]
    },
    {
      "cell_type": "markdown",
      "metadata": {
        "id": "Ij-ZW5IyzXIb"
      },
      "source": [
        "Ou seja, linha virou coluna. Ok?"
      ]
    },
    {
      "cell_type": "markdown",
      "metadata": {
        "id": "qLy6ajgpt3lU"
      },
      "source": [
        "# **Inversa da matriz quadrada**\n",
        "> Se uma matriz é não-singular, então sua inversa existe.\n",
        "\n",
        "* Se o determinante de uma matriz  is not equal to zero, then the matrix isé diferente de 0, então a matriz é não-singular."
      ]
    },
    {
      "cell_type": "code",
      "metadata": {
        "id": "-u7jRq34t9_x"
      },
      "source": [
        "import numpy as np\n",
        "\n",
        "a_conjunto1 = np.array([[1, 2, 3],[4, 5, 6],[7, 8, 9]])\n",
        "a_conjunto2 = np.array([[6, 2], [5, 3]])\n",
        "a_conjunto3 = np.array([[1, 3, 5],[2, 5, 1],[2, 3, 8]])"
      ],
      "execution_count": null,
      "outputs": []
    },
    {
      "cell_type": "code",
      "metadata": {
        "id": "7zmHHWWlvaYB"
      },
      "source": [
        "a_conjunto1"
      ],
      "execution_count": null,
      "outputs": []
    },
    {
      "cell_type": "code",
      "metadata": {
        "id": "3fHKyhOJvcak"
      },
      "source": [
        "a_conjunto2"
      ],
      "execution_count": null,
      "outputs": []
    },
    {
      "cell_type": "code",
      "metadata": {
        "id": "vQG7yyfjwLg9"
      },
      "source": [
        "a_conjunto3"
      ],
      "execution_count": null,
      "outputs": []
    },
    {
      "cell_type": "markdown",
      "metadata": {
        "id": "qa2Yre2rwgRk"
      },
      "source": [
        "## Determinantes da matriz quadrada"
      ]
    },
    {
      "cell_type": "code",
      "metadata": {
        "id": "N6jwuC6twkyc"
      },
      "source": [
        "np.linalg.det(a_conjunto1)"
      ],
      "execution_count": null,
      "outputs": []
    },
    {
      "cell_type": "code",
      "metadata": {
        "id": "QSvViNwzwnhI"
      },
      "source": [
        "np.linalg.det(a_conjunto2)"
      ],
      "execution_count": null,
      "outputs": []
    },
    {
      "cell_type": "code",
      "metadata": {
        "id": "o8jwsnccw5id"
      },
      "source": [
        "np.linalg.det(a_conjunto3)"
      ],
      "execution_count": null,
      "outputs": []
    },
    {
      "cell_type": "markdown",
      "metadata": {
        "id": "kkVaTgzgw_XJ"
      },
      "source": [
        "A seguir, calculamos as inversas das matrizes acima definidas..."
      ]
    },
    {
      "cell_type": "code",
      "metadata": {
        "id": "b9FgWvTYvpik"
      },
      "source": [
        "np.linalg.inv(a_conjunto2)"
      ],
      "execution_count": null,
      "outputs": []
    },
    {
      "cell_type": "code",
      "metadata": {
        "id": "KsdEt1kIvsM_"
      },
      "source": [
        "np.linalg.inv(a_conjunto1)"
      ],
      "execution_count": null,
      "outputs": []
    },
    {
      "cell_type": "markdown",
      "metadata": {
        "id": "VA_F7_7kccpn"
      },
      "source": [
        "Porque não temos a inversa de a_conjunto1?"
      ]
    },
    {
      "cell_type": "code",
      "metadata": {
        "id": "ANPBCnmVwOf4"
      },
      "source": [
        "np.linalg.inv(a_conjunto3)"
      ],
      "execution_count": null,
      "outputs": []
    },
    {
      "cell_type": "markdown",
      "metadata": {
        "id": "XAf9k1egxcdF"
      },
      "source": [
        "# **Resolver sistemas de equações lineares**\n",
        "> Considere o sistema de euqações lineares abaixo:\n",
        "\n",
        "\\begin{equation}\n",
        "x + 3y + 5z = 10\\\\\n",
        "2x+ 5y + z = 8 \\\\\n",
        "2x + 3y + 8z= 3\n",
        "\\end{equation}\n",
        "\n",
        "Ou $Ax = b$. A solução deste sistema de equações é dada por $A^{-1}b$."
      ]
    },
    {
      "cell_type": "markdown",
      "metadata": {
        "id": "oNf5nqaLxhBY"
      },
      "source": [
        "Ou seja, basta encontrarmos a inversa de A e multiplicarmos por b."
      ]
    },
    {
      "cell_type": "code",
      "metadata": {
        "id": "omzC5dGA0btc"
      },
      "source": [
        "A= np.array([[1, 3, 5], [2, 5, 1], [2, 3, 8]])\n",
        "np.linalg.inv(A)"
      ],
      "execution_count": null,
      "outputs": []
    },
    {
      "cell_type": "markdown",
      "metadata": {
        "id": "AiXI3oxB05iE"
      },
      "source": [
        "Agora basta multiplicar a matriz inversa $A^{-1}$ acima por b. "
      ]
    },
    {
      "cell_type": "code",
      "metadata": {
        "id": "XoGebKDa2Fcd"
      },
      "source": [
        "A_Inv = np.linalg.inv(A)"
      ],
      "execution_count": null,
      "outputs": []
    },
    {
      "cell_type": "code",
      "metadata": {
        "id": "sKaP0a1QZG-P"
      },
      "source": [
        "b= np.array([10, 8, 3]).reshape(3, -1)\n",
        "b"
      ],
      "execution_count": null,
      "outputs": []
    },
    {
      "cell_type": "code",
      "metadata": {
        "id": "3dAVq8dg19VI"
      },
      "source": [
        "A_Inv.dot(b)"
      ],
      "execution_count": null,
      "outputs": []
    },
    {
      "cell_type": "markdown",
      "metadata": {
        "id": "zso6hTnB17cm"
      },
      "source": [
        "Uma forma fácil de se fazer isso é utilizar a expressão abaixo:"
      ]
    },
    {
      "cell_type": "code",
      "metadata": {
        "id": "ptQHIVll1E4P"
      },
      "source": [
        "b= np.array([[10], [8], [3]])\n",
        "b"
      ],
      "execution_count": null,
      "outputs": []
    },
    {
      "cell_type": "code",
      "metadata": {
        "id": "X4VL8lyY1Xus"
      },
      "source": [
        "np.linalg.solve(A, b)"
      ],
      "execution_count": null,
      "outputs": []
    },
    {
      "cell_type": "markdown",
      "metadata": {
        "id": "fJKmwTS59-Bc"
      },
      "source": [
        "# **Empilhar arrays**\n",
        "\n",
        "## Exemplo 1\n",
        "\n",
        "![Empilhar1](https://github.com/MathMachado/Materials/blob/master/Empilhar1.PNG?raw=true)\n",
        "\n",
        "## Exemplo 2\n",
        "\n",
        "![Empilhar2](https://github.com/MathMachado/Materials/blob/master/Empilhar2.PNG?raw=true)\n",
        "\n"
      ]
    },
    {
      "cell_type": "markdown",
      "metadata": {
        "id": "rhPTt3EwXden"
      },
      "source": [
        "## Gerar os arrays do exemplo1"
      ]
    },
    {
      "cell_type": "code",
      "metadata": {
        "id": "zEI-yBy3-E46"
      },
      "source": [
        "np.random.seed(20111974)\n",
        "a_conjunto1 = np.random.randn(5, 8)\n",
        "\n",
        "np.random.seed(19741120)\n",
        "a_conjunto2 = np.random.randn(8, 8)"
      ],
      "execution_count": 33,
      "outputs": []
    },
    {
      "cell_type": "markdown",
      "metadata": {
        "id": "UYsAqBRp--79"
      },
      "source": [
        "## Método 1 - Concatenate([A, B])"
      ]
    },
    {
      "cell_type": "code",
      "metadata": {
        "id": "HgO1ujvhObyE",
        "colab": {
          "base_uri": "https://localhost:8080/",
          "height": 187
        },
        "outputId": "c40e7ed9-255b-4886-dddf-3b17f2b1be2f"
      },
      "source": [
        "a_conjunto1"
      ],
      "execution_count": null,
      "outputs": [
        {
          "output_type": "execute_result",
          "data": {
            "text/plain": [
              "array([[ 2.5062768 ,  1.11440422,  2.05565501,  0.56482376,  0.29897276,\n",
              "         1.04930857, -0.12607366,  1.06227632],\n",
              "       [ 1.13807032,  1.37966044, -2.05995563,  0.67474814,  0.72722843,\n",
              "        -0.33923852,  0.43613107,  0.59135489],\n",
              "       [-1.29281877,  1.17712036, -0.98644163, -1.79034143, -1.08913605,\n",
              "        -0.90712825, -1.02291108, -1.36445713],\n",
              "       [-0.29429164,  0.06343709, -1.14196185, -0.50706079, -0.83539436,\n",
              "        -1.41492946, -0.2159062 , -1.16519474],\n",
              "       [-0.60767518, -0.61510925,  1.0771542 ,  0.5043687 ,  0.02674197,\n",
              "         1.83494644,  0.34728874, -1.14671885]])"
            ]
          },
          "metadata": {
            "tags": []
          },
          "execution_count": 33
        }
      ]
    },
    {
      "cell_type": "code",
      "metadata": {
        "id": "2aQY_klZOeg9",
        "colab": {
          "base_uri": "https://localhost:8080/",
          "height": 289
        },
        "outputId": "14eb3d9c-d0fc-4b6a-fe19-1790695c838f"
      },
      "source": [
        "a_conjunto2"
      ],
      "execution_count": null,
      "outputs": [
        {
          "output_type": "execute_result",
          "data": {
            "text/plain": [
              "array([[-0.77337752, -1.10547465,  0.10062807, -1.14571729, -2.15266227,\n",
              "        -0.75255725, -2.1529949 , -0.33017773],\n",
              "       [-1.10465731,  0.32889675,  0.01010198, -1.33213633, -0.33945805,\n",
              "        -0.01299007,  0.05342823, -0.18641201],\n",
              "       [ 0.39473805, -0.89354231, -0.50667323, -0.74660913,  1.83586365,\n",
              "        -1.20536871,  1.20184886,  0.51160897],\n",
              "       [-0.56952286, -0.93343871, -0.24972528,  0.98487133,  1.19333367,\n",
              "         2.29956497,  0.16657022,  0.71357415],\n",
              "       [-0.45251078,  0.92163918,  0.73421263,  2.17811191, -0.05655212,\n",
              "         1.25326   , -0.37039248,  1.43855202],\n",
              "       [ 0.85646091, -0.11257239, -0.35400297,  0.94136671, -0.08696163,\n",
              "        -1.49000701,  0.00848666,  0.86705275],\n",
              "       [ 1.6340906 ,  1.36321063, -0.02175361, -0.45301645, -0.37111236,\n",
              "        -0.04716069, -2.27337435,  0.95318738],\n",
              "       [ 0.7100548 , -0.79883269, -0.3165779 , -1.58352824, -0.37751484,\n",
              "        -0.29760341, -0.73424207, -0.55703223]])"
            ]
          },
          "metadata": {
            "tags": []
          },
          "execution_count": 34
        }
      ]
    },
    {
      "cell_type": "code",
      "metadata": {
        "id": "bK70vaq8_KMH",
        "colab": {
          "base_uri": "https://localhost:8080/",
          "height": 459
        },
        "outputId": "f6d400cf-4b54-4990-815b-052f5224aadd"
      },
      "source": [
        "np.concatenate([a_conjunto1, a_conjunto2], axis = 0) # axis= 0 diz ao NumPy para empilhar as linhas"
      ],
      "execution_count": null,
      "outputs": [
        {
          "output_type": "execute_result",
          "data": {
            "text/plain": [
              "array([[ 2.5062768 ,  1.11440422,  2.05565501,  0.56482376,  0.29897276,\n",
              "         1.04930857, -0.12607366,  1.06227632],\n",
              "       [ 1.13807032,  1.37966044, -2.05995563,  0.67474814,  0.72722843,\n",
              "        -0.33923852,  0.43613107,  0.59135489],\n",
              "       [-1.29281877,  1.17712036, -0.98644163, -1.79034143, -1.08913605,\n",
              "        -0.90712825, -1.02291108, -1.36445713],\n",
              "       [-0.29429164,  0.06343709, -1.14196185, -0.50706079, -0.83539436,\n",
              "        -1.41492946, -0.2159062 , -1.16519474],\n",
              "       [-0.60767518, -0.61510925,  1.0771542 ,  0.5043687 ,  0.02674197,\n",
              "         1.83494644,  0.34728874, -1.14671885],\n",
              "       [-0.77337752, -1.10547465,  0.10062807, -1.14571729, -2.15266227,\n",
              "        -0.75255725, -2.1529949 , -0.33017773],\n",
              "       [-1.10465731,  0.32889675,  0.01010198, -1.33213633, -0.33945805,\n",
              "        -0.01299007,  0.05342823, -0.18641201],\n",
              "       [ 0.39473805, -0.89354231, -0.50667323, -0.74660913,  1.83586365,\n",
              "        -1.20536871,  1.20184886,  0.51160897],\n",
              "       [-0.56952286, -0.93343871, -0.24972528,  0.98487133,  1.19333367,\n",
              "         2.29956497,  0.16657022,  0.71357415],\n",
              "       [-0.45251078,  0.92163918,  0.73421263,  2.17811191, -0.05655212,\n",
              "         1.25326   , -0.37039248,  1.43855202],\n",
              "       [ 0.85646091, -0.11257239, -0.35400297,  0.94136671, -0.08696163,\n",
              "        -1.49000701,  0.00848666,  0.86705275],\n",
              "       [ 1.6340906 ,  1.36321063, -0.02175361, -0.45301645, -0.37111236,\n",
              "        -0.04716069, -2.27337435,  0.95318738],\n",
              "       [ 0.7100548 , -0.79883269, -0.3165779 , -1.58352824, -0.37751484,\n",
              "        -0.29760341, -0.73424207, -0.55703223]])"
            ]
          },
          "metadata": {
            "tags": []
          },
          "execution_count": 35
        }
      ]
    },
    {
      "cell_type": "markdown",
      "metadata": {
        "id": "CpaXBkm8_BF8"
      },
      "source": [
        "## Método 2 - np.r_[A, B]"
      ]
    },
    {
      "cell_type": "code",
      "metadata": {
        "id": "3QnVUzAY_teZ",
        "colab": {
          "base_uri": "https://localhost:8080/",
          "height": 459
        },
        "outputId": "e8adfd85-e760-40f5-d9ac-48353d24ccd2"
      },
      "source": [
        "np.r_[a_conjunto1, a_conjunto2]"
      ],
      "execution_count": null,
      "outputs": [
        {
          "output_type": "execute_result",
          "data": {
            "text/plain": [
              "array([[ 2.5062768 ,  1.11440422,  2.05565501,  0.56482376,  0.29897276,\n",
              "         1.04930857, -0.12607366,  1.06227632],\n",
              "       [ 1.13807032,  1.37966044, -2.05995563,  0.67474814,  0.72722843,\n",
              "        -0.33923852,  0.43613107,  0.59135489],\n",
              "       [-1.29281877,  1.17712036, -0.98644163, -1.79034143, -1.08913605,\n",
              "        -0.90712825, -1.02291108, -1.36445713],\n",
              "       [-0.29429164,  0.06343709, -1.14196185, -0.50706079, -0.83539436,\n",
              "        -1.41492946, -0.2159062 , -1.16519474],\n",
              "       [-0.60767518, -0.61510925,  1.0771542 ,  0.5043687 ,  0.02674197,\n",
              "         1.83494644,  0.34728874, -1.14671885],\n",
              "       [-0.77337752, -1.10547465,  0.10062807, -1.14571729, -2.15266227,\n",
              "        -0.75255725, -2.1529949 , -0.33017773],\n",
              "       [-1.10465731,  0.32889675,  0.01010198, -1.33213633, -0.33945805,\n",
              "        -0.01299007,  0.05342823, -0.18641201],\n",
              "       [ 0.39473805, -0.89354231, -0.50667323, -0.74660913,  1.83586365,\n",
              "        -1.20536871,  1.20184886,  0.51160897],\n",
              "       [-0.56952286, -0.93343871, -0.24972528,  0.98487133,  1.19333367,\n",
              "         2.29956497,  0.16657022,  0.71357415],\n",
              "       [-0.45251078,  0.92163918,  0.73421263,  2.17811191, -0.05655212,\n",
              "         1.25326   , -0.37039248,  1.43855202],\n",
              "       [ 0.85646091, -0.11257239, -0.35400297,  0.94136671, -0.08696163,\n",
              "        -1.49000701,  0.00848666,  0.86705275],\n",
              "       [ 1.6340906 ,  1.36321063, -0.02175361, -0.45301645, -0.37111236,\n",
              "        -0.04716069, -2.27337435,  0.95318738],\n",
              "       [ 0.7100548 , -0.79883269, -0.3165779 , -1.58352824, -0.37751484,\n",
              "        -0.29760341, -0.73424207, -0.55703223]])"
            ]
          },
          "metadata": {
            "tags": []
          },
          "execution_count": 36
        }
      ]
    },
    {
      "cell_type": "markdown",
      "metadata": {
        "id": "XmSPbDP6_20W"
      },
      "source": [
        "**Obs**.: Eu prefiro este método!"
      ]
    },
    {
      "cell_type": "markdown",
      "metadata": {
        "id": "dzVKW_wX_Dzw"
      },
      "source": [
        "## Método 3 - np.vstack([A, B]) = np.r_[A, B]"
      ]
    },
    {
      "cell_type": "code",
      "metadata": {
        "id": "uL7lEN_mABID",
        "colab": {
          "base_uri": "https://localhost:8080/",
          "height": 459
        },
        "outputId": "d1ea4d86-2cc1-4e2d-af72-b3a292ef15fd"
      },
      "source": [
        "np.vstack([a_conjunto1, a_conjunto2])"
      ],
      "execution_count": null,
      "outputs": [
        {
          "output_type": "execute_result",
          "data": {
            "text/plain": [
              "array([[ 2.5062768 ,  1.11440422,  2.05565501,  0.56482376,  0.29897276,\n",
              "         1.04930857, -0.12607366,  1.06227632],\n",
              "       [ 1.13807032,  1.37966044, -2.05995563,  0.67474814,  0.72722843,\n",
              "        -0.33923852,  0.43613107,  0.59135489],\n",
              "       [-1.29281877,  1.17712036, -0.98644163, -1.79034143, -1.08913605,\n",
              "        -0.90712825, -1.02291108, -1.36445713],\n",
              "       [-0.29429164,  0.06343709, -1.14196185, -0.50706079, -0.83539436,\n",
              "        -1.41492946, -0.2159062 , -1.16519474],\n",
              "       [-0.60767518, -0.61510925,  1.0771542 ,  0.5043687 ,  0.02674197,\n",
              "         1.83494644,  0.34728874, -1.14671885],\n",
              "       [-0.77337752, -1.10547465,  0.10062807, -1.14571729, -2.15266227,\n",
              "        -0.75255725, -2.1529949 , -0.33017773],\n",
              "       [-1.10465731,  0.32889675,  0.01010198, -1.33213633, -0.33945805,\n",
              "        -0.01299007,  0.05342823, -0.18641201],\n",
              "       [ 0.39473805, -0.89354231, -0.50667323, -0.74660913,  1.83586365,\n",
              "        -1.20536871,  1.20184886,  0.51160897],\n",
              "       [-0.56952286, -0.93343871, -0.24972528,  0.98487133,  1.19333367,\n",
              "         2.29956497,  0.16657022,  0.71357415],\n",
              "       [-0.45251078,  0.92163918,  0.73421263,  2.17811191, -0.05655212,\n",
              "         1.25326   , -0.37039248,  1.43855202],\n",
              "       [ 0.85646091, -0.11257239, -0.35400297,  0.94136671, -0.08696163,\n",
              "        -1.49000701,  0.00848666,  0.86705275],\n",
              "       [ 1.6340906 ,  1.36321063, -0.02175361, -0.45301645, -0.37111236,\n",
              "        -0.04716069, -2.27337435,  0.95318738],\n",
              "       [ 0.7100548 , -0.79883269, -0.3165779 , -1.58352824, -0.37751484,\n",
              "        -0.29760341, -0.73424207, -0.55703223]])"
            ]
          },
          "metadata": {
            "tags": []
          },
          "execution_count": 37
        }
      ]
    },
    {
      "cell_type": "markdown",
      "metadata": {
        "id": "68icJ-2ZAdRj"
      },
      "source": [
        "# Concatenar arrays\n",
        "\n",
        "## Exemplo 1\n",
        "\n",
        "![Concatenar1](https://github.com/MathMachado/Materials/blob/master/Concatenar1.PNG?raw=true)\n",
        "\n",
        "# Exemplo 2\n",
        "\n",
        "![Concatenar2](https://github.com/MathMachado/Materials/blob/master/Concatenar2.PNG?raw=true)"
      ]
    },
    {
      "cell_type": "markdown",
      "metadata": {
        "id": "OplgK9YoQi9o"
      },
      "source": [
        "## Concatenar os elementos de dois arrays - np.c_[A, B]"
      ]
    },
    {
      "cell_type": "code",
      "metadata": {
        "id": "lpdsbTEKQ9EY"
      },
      "source": [
        "np.random.seed(20111974)\n",
        "a_conjunto1 = np.random.randint(0, 10, 100).reshape(-1, 10)\n",
        "a_conjunto2 = np.random.randint(0, 2, 10).reshape(-1, 1)"
      ],
      "execution_count": 34,
      "outputs": []
    },
    {
      "cell_type": "code",
      "metadata": {
        "id": "JPxhGsaSSMk2",
        "colab": {
          "base_uri": "https://localhost:8080/"
        },
        "outputId": "86ec528e-5073-43f4-faba-2abfd74cafe4"
      },
      "source": [
        "a_conjunto1"
      ],
      "execution_count": 35,
      "outputs": [
        {
          "output_type": "execute_result",
          "data": {
            "text/plain": [
              "array([[8, 8, 2, 8, 9, 1, 8, 0, 4, 2],\n",
              "       [0, 8, 9, 3, 7, 1, 3, 2, 9, 7],\n",
              "       [7, 9, 5, 6, 8, 7, 0, 9, 3, 9],\n",
              "       [3, 1, 8, 6, 3, 5, 4, 1, 2, 9],\n",
              "       [8, 6, 6, 1, 0, 9, 2, 0, 7, 5],\n",
              "       [5, 4, 4, 2, 7, 2, 7, 9, 3, 1],\n",
              "       [5, 0, 1, 2, 3, 8, 7, 5, 4, 0],\n",
              "       [5, 9, 6, 6, 1, 3, 6, 0, 4, 9],\n",
              "       [2, 1, 0, 9, 1, 4, 2, 9, 7, 9],\n",
              "       [5, 3, 7, 6, 3, 9, 8, 4, 3, 0]])"
            ]
          },
          "metadata": {
            "tags": []
          },
          "execution_count": 35
        }
      ]
    },
    {
      "cell_type": "code",
      "metadata": {
        "id": "9ZyUPfybTfej",
        "colab": {
          "base_uri": "https://localhost:8080/"
        },
        "outputId": "dd87334b-ec01-4ecc-98fd-a5903552e52e"
      },
      "source": [
        "a_conjunto2"
      ],
      "execution_count": 36,
      "outputs": [
        {
          "output_type": "execute_result",
          "data": {
            "text/plain": [
              "array([[1],\n",
              "       [0],\n",
              "       [0],\n",
              "       [0],\n",
              "       [0],\n",
              "       [1],\n",
              "       [0],\n",
              "       [0],\n",
              "       [0],\n",
              "       [1]])"
            ]
          },
          "metadata": {
            "tags": []
          },
          "execution_count": 36
        }
      ]
    },
    {
      "cell_type": "code",
      "metadata": {
        "id": "nS1cPG3aRug1",
        "colab": {
          "base_uri": "https://localhost:8080/",
          "height": 187
        },
        "outputId": "c70cf891-ae8f-445d-c271-c6b7f7da1738"
      },
      "source": [
        "# colocando o array a_conjunto2 do lado de a_conjunto1.\n",
        "np.c_[a_conjunto1, a_conjunto2]"
      ],
      "execution_count": null,
      "outputs": [
        {
          "output_type": "execute_result",
          "data": {
            "text/plain": [
              "array([[8, 8, 2, 8, 9, 1, 8, 0, 4, 2, 1],\n",
              "       [0, 8, 9, 3, 7, 1, 3, 2, 9, 7, 0],\n",
              "       [7, 9, 5, 6, 8, 7, 0, 9, 3, 9, 0],\n",
              "       [3, 1, 8, 6, 3, 5, 4, 1, 2, 9, 0],\n",
              "       [8, 6, 6, 1, 0, 9, 2, 0, 7, 5, 0],\n",
              "       [5, 4, 4, 2, 7, 2, 7, 9, 3, 1, 1],\n",
              "       [5, 0, 1, 2, 3, 8, 7, 5, 4, 0, 0],\n",
              "       [5, 9, 6, 6, 1, 3, 6, 0, 4, 9, 0],\n",
              "       [2, 1, 0, 9, 1, 4, 2, 9, 7, 9, 0],\n",
              "       [5, 3, 7, 6, 3, 9, 8, 4, 3, 0, 1]])"
            ]
          },
          "metadata": {
            "tags": []
          },
          "execution_count": 41
        }
      ]
    },
    {
      "cell_type": "markdown",
      "metadata": {
        "id": "kIgU1YBw0OeM"
      },
      "source": [
        "___\n",
        "# **Selecionar itens que satisfazem condições**\n",
        "> Considere o array a seguir:"
      ]
    },
    {
      "cell_type": "code",
      "metadata": {
        "id": "e2pL5anBV0DI",
        "colab": {
          "base_uri": "https://localhost:8080/"
        },
        "outputId": "311e6fb6-903f-4cc2-e372-bd59d8615b57"
      },
      "source": [
        "a_conjunto1 = np.arange(10, 0, -1)\n",
        "a_conjunto1"
      ],
      "execution_count": 40,
      "outputs": [
        {
          "output_type": "execute_result",
          "data": {
            "text/plain": [
              "array([10,  9,  8,  7,  6,  5,  4,  3,  2,  1])"
            ]
          },
          "metadata": {
            "tags": []
          },
          "execution_count": 40
        }
      ]
    },
    {
      "cell_type": "markdown",
      "metadata": {
        "id": "i9HuZZAfV302"
      },
      "source": [
        "Selecionar somente os itens > 7:"
      ]
    },
    {
      "cell_type": "markdown",
      "metadata": {
        "id": "ZCESvr7iXMkV"
      },
      "source": [
        "## Usando np.where()"
      ]
    },
    {
      "cell_type": "code",
      "metadata": {
        "id": "BdrAQLHkTS-v",
        "colab": {
          "base_uri": "https://localhost:8080/"
        },
        "outputId": "3d46ef9a-356a-46b8-df8e-8545e95a3a51"
      },
      "source": [
        "a_conjunto1"
      ],
      "execution_count": 43,
      "outputs": [
        {
          "output_type": "execute_result",
          "data": {
            "text/plain": [
              "array([10,  9,  8,  7,  6,  5,  4,  3,  2,  1])"
            ]
          },
          "metadata": {
            "tags": []
          },
          "execution_count": 43
        }
      ]
    },
    {
      "cell_type": "code",
      "metadata": {
        "id": "O_ZBaWxfWA9o",
        "colab": {
          "base_uri": "https://localhost:8080/"
        },
        "outputId": "cb5521db-ec98-4344-b9a8-f3e588f032b2"
      },
      "source": [
        "# Índices do array que atendem a condição\n",
        "l_indices = np.where(a_conjunto1 > 7)\n",
        "l_indices"
      ],
      "execution_count": 44,
      "outputs": [
        {
          "output_type": "execute_result",
          "data": {
            "text/plain": [
              "(array([0, 1, 2]),)"
            ]
          },
          "metadata": {
            "tags": []
          },
          "execution_count": 44
        }
      ]
    },
    {
      "cell_type": "markdown",
      "metadata": {
        "id": "EdWlfPOZWPME"
      },
      "source": [
        "**Atenção**: Capturamos os índices. Para selecionar os itens, basta fazer:"
      ]
    },
    {
      "cell_type": "code",
      "metadata": {
        "id": "tOxs3iYQWWxu",
        "colab": {
          "base_uri": "https://localhost:8080/"
        },
        "outputId": "8757be4a-957a-4fbe-b9b7-0d55a1ca100d"
      },
      "source": [
        "a_conjunto2 = a_conjunto1[l_indices]\n",
        "a_conjunto2"
      ],
      "execution_count": 45,
      "outputs": [
        {
          "output_type": "execute_result",
          "data": {
            "text/plain": [
              "array([10,  9,  8])"
            ]
          },
          "metadata": {
            "tags": []
          },
          "execution_count": 45
        }
      ]
    },
    {
      "cell_type": "markdown",
      "metadata": {
        "id": "PGsENqkaXRjh"
      },
      "source": [
        "## Alternativa: Usando []"
      ]
    },
    {
      "cell_type": "code",
      "metadata": {
        "id": "YbdRNk1WXTLT",
        "colab": {
          "base_uri": "https://localhost:8080/",
          "height": 34
        },
        "outputId": "062b157c-00fb-4f8f-d207-a0c8e9871e48"
      },
      "source": [
        "a_conjunto1[a_conjunto1 > 7]"
      ],
      "execution_count": null,
      "outputs": [
        {
          "output_type": "execute_result",
          "data": {
            "text/plain": [
              "array([10,  9,  8])"
            ]
          },
          "metadata": {
            "tags": []
          },
          "execution_count": 47
        }
      ]
    },
    {
      "cell_type": "markdown",
      "metadata": {
        "id": "jijpzFxcSQC8"
      },
      "source": [
        "Acho que vale a pena quebrar esta solução para entendermos melhor como as coisas funcionam:#"
      ]
    },
    {
      "cell_type": "code",
      "metadata": {
        "id": "rujhP2LQSWsq"
      },
      "source": [
        " # Primeiro, avalie o resultado de a_conjunto1 > 7:"
      ],
      "execution_count": null,
      "outputs": []
    },
    {
      "cell_type": "code",
      "metadata": {
        "id": "FYZaBsasSb3N",
        "colab": {
          "base_uri": "https://localhost:8080/"
        },
        "outputId": "087b40b9-0970-4da1-d8a1-2bc99f75d3d0"
      },
      "source": [
        "a_conjunto1 > 7"
      ],
      "execution_count": 48,
      "outputs": [
        {
          "output_type": "execute_result",
          "data": {
            "text/plain": [
              "array([ True,  True,  True, False, False, False, False, False, False,\n",
              "       False])"
            ]
          },
          "metadata": {
            "tags": []
          },
          "execution_count": 48
        }
      ]
    },
    {
      "cell_type": "code",
      "metadata": {
        "id": "mvEof-UKaaVG",
        "colab": {
          "base_uri": "https://localhost:8080/"
        },
        "outputId": "ccb3330a-8adc-4f9f-a592-c0be7679e55b"
      },
      "source": [
        "a_conjunto1[a_conjunto1 > 7]"
      ],
      "execution_count": 49,
      "outputs": [
        {
          "output_type": "execute_result",
          "data": {
            "text/plain": [
              "array([10,  9,  8])"
            ]
          },
          "metadata": {
            "tags": []
          },
          "execution_count": 49
        }
      ]
    },
    {
      "cell_type": "code",
      "metadata": {
        "id": "nO4FiBmDUZOT",
        "colab": {
          "base_uri": "https://localhost:8080/"
        },
        "outputId": "9044751c-bca8-447b-a921-875696eabfeb"
      },
      "source": [
        "a_conjunto1"
      ],
      "execution_count": 50,
      "outputs": [
        {
          "output_type": "execute_result",
          "data": {
            "text/plain": [
              "array([10,  9,  8,  7,  6,  5,  4,  3,  2,  1])"
            ]
          },
          "metadata": {
            "tags": []
          },
          "execution_count": 50
        }
      ]
    },
    {
      "cell_type": "markdown",
      "metadata": {
        "id": "Ci5lT9nmSfsX"
      },
      "source": [
        "Agora, com este resultado, fica fácil entender como o Python seleciona os elementos. Consegue explicar?"
      ]
    },
    {
      "cell_type": "markdown",
      "metadata": {
        "id": "1v5Lfin0GGKD"
      },
      "source": [
        "# Substituir itens baseado em condições\n",
        "> Substituir os valores negativos do array abaixo por 0."
      ]
    },
    {
      "cell_type": "markdown",
      "metadata": {
        "id": "CLY_u0ePWdN7"
      },
      "source": [
        "## Gerar o exemplo"
      ]
    },
    {
      "cell_type": "code",
      "metadata": {
        "id": "NUANFy-fNXf5"
      },
      "source": [
        "np.random.seed(20111974)\n",
        "a_conjunto1 = np.array(np.random.randint(0, 10, size = 100))\n",
        "\n",
        "# Lista aleatória de índices que vou alterar\n",
        "np.random.seed(20111974)\n",
        "l_indices= np.random.randint(0, 99, 9)\n",
        "\n",
        "for i in l_indices:\n",
        "    a_conjunto1[i] = -1*a_conjunto1[i]\n",
        "\n",
        "a_conjunto2 = a_conjunto1.copy()\n",
        "a_conjunto2"
      ],
      "execution_count": null,
      "outputs": []
    },
    {
      "cell_type": "code",
      "metadata": {
        "id": "dWVyI40uN2d2"
      },
      "source": [
        "# Indices a serem multiplicados por -1:\n",
        "l_indices"
      ],
      "execution_count": null,
      "outputs": []
    },
    {
      "cell_type": "markdown",
      "metadata": {
        "id": "3Whuu854OJDZ"
      },
      "source": [
        "## Substituir os valores negativos por 0"
      ]
    },
    {
      "cell_type": "code",
      "metadata": {
        "id": "sr268Rp8b-Se",
        "colab": {
          "base_uri": "https://localhost:8080/",
          "height": 34
        },
        "outputId": "82514805-b350-45c4-a3fc-7cb24c847b7f"
      },
      "source": [
        "a_conjunto2 < 0"
      ],
      "execution_count": null,
      "outputs": [
        {
          "output_type": "execute_result",
          "data": {
            "text/plain": [
              "array([False, False, False])"
            ]
          },
          "metadata": {
            "tags": []
          },
          "execution_count": 50
        }
      ]
    },
    {
      "cell_type": "code",
      "metadata": {
        "id": "C-eKqPrfOQF6"
      },
      "source": [
        "a_conjunto2[a_conjunto2 < 0] = 0\n",
        "a_conjunto2"
      ],
      "execution_count": null,
      "outputs": []
    },
    {
      "cell_type": "markdown",
      "metadata": {
        "id": "eDLM0_JSZlfB"
      },
      "source": [
        "Observe acima que os valores negativos foram substituídos por 0, como queríamos."
      ]
    },
    {
      "cell_type": "markdown",
      "metadata": {
        "id": "AEHJ0rA3dHHU"
      },
      "source": [
        "## Substituir os valores negativos por 0 e os positivos por 1"
      ]
    },
    {
      "cell_type": "code",
      "metadata": {
        "id": "y32J8SRNZwRF"
      },
      "source": [
        "a_conjunto2 = a_conjunto1.copy()\n",
        "a_conjunto2"
      ],
      "execution_count": null,
      "outputs": []
    },
    {
      "cell_type": "code",
      "metadata": {
        "id": "1bSD9Fs6P5wW"
      },
      "source": [
        "a_conjunto2 = np.where(a_conjunto2 <= 0, 0, 1)\n",
        "a_conjunto2"
      ],
      "execution_count": null,
      "outputs": []
    },
    {
      "cell_type": "markdown",
      "metadata": {
        "id": "i027scjl0qkm"
      },
      "source": [
        "___\n",
        "# Outliers\n",
        "> Qualquer ponto/observação que é incomum quando comparado com todos os outros pontos/observações."
      ]
    },
    {
      "cell_type": "markdown",
      "metadata": {
        "id": "UnDTqRnZHQ3W"
      },
      "source": [
        "## Z-Score\n",
        "\n",
        "* Z-Score pode ser utilizado para detectar Outliers.\n",
        "* É a diferença entre o valor e a média da amostra expressa como o número de desvios-padrão. \n",
        "* Se o escore z for menor que 2,5 ou maior que 2,5, o valor estará nos 5% do menor ou maior valor (2,5% dos valores em ambas as extremidades da distribuição). No entanto, é pratica comum utilizarmos 3 ao invés dos 2,5.\n",
        "\n",
        "![Z_Score](https://github.com/MathMachado/Materials/blob/master/Z_Score.png?raw=true)"
      ]
    },
    {
      "cell_type": "markdown",
      "metadata": {
        "id": "N7gb2zhtd0uM"
      },
      "source": [
        "## IQR Score\n",
        "\n",
        "* O Intervalo interquartil (IQR) é uma medida de dispersão estatística, sendo igual à diferença entre os percentis 75 (Q3) e 25 (Q1), ou entre quartis superiores e inferiores, IQR = Q3 - Q1."
      ]
    },
    {
      "cell_type": "markdown",
      "metadata": {
        "id": "lMmWOKNvghI7"
      },
      "source": [
        "![BoxPlot](https://github.com/MathMachado/Materials/blob/master/boxplot.png?raw=true)"
      ]
    },
    {
      "cell_type": "markdown",
      "metadata": {
        "id": "DUw_a-MjWvBc"
      },
      "source": [
        "### Desafio para resolverem\n",
        "> **Objetivo**: Simular aleatoriamente o salário de 1.000 pessoas com distribuição N(1.045; 100). \n",
        "* Identificar os _outliers_ da distribuição que acabamos de simular;\n",
        "* Qual a média da distribuição que simulamos?\n",
        "* Qual o desvio-padrão;\n",
        "* Plotar o Boxplot da distribuição dos dados;\n",
        "* Quantas pessoas > Q3 + 1.5*(Q3-Q1)\n",
        "* Substituir os outliers do array por:\n",
        "    * Q1-1.5*(Q3 - Q1), se ponto < Q1-1.5*(Q3-Q1)\n",
        "    * Q3+1.5*(Q3 - Q1), se ponto > Q3+1.5*(Q3-Q1)\n",
        "\n",
        "Obs.: Use np.random.seed(20111974)."
      ]
    },
    {
      "cell_type": "markdown",
      "metadata": {
        "id": "L9ntAdS_oOAh"
      },
      "source": [
        "### Geração aleatória do array a_salarios com distribuição $N(\\mu, \\sigma)$"
      ]
    },
    {
      "cell_type": "code",
      "metadata": {
        "id": "RL0Zb0fyDory",
        "colab": {
          "base_uri": "https://localhost:8080/"
        },
        "outputId": "9828a5c2-261e-4c82-c798-35b628b79fde"
      },
      "source": [
        "import numpy as np\n",
        "np.random.seed(20111974)\n",
        "np.set_printoptions(precision = 2, suppress = True)\n",
        "\n",
        "media = 1045\n",
        "desvio_padrao = 100\n",
        "i_tamanho = 1000\n",
        "\n",
        "a_salarios = np.array(np.random.normal(media, desvio_padrao, size = i_tamanho))\n",
        "a_salarios[:30]"
      ],
      "execution_count": 1,
      "outputs": [
        {
          "output_type": "execute_result",
          "data": {
            "text/plain": [
              "array([1295.63, 1156.44, 1250.57, 1101.48, 1074.9 , 1149.93, 1032.39,\n",
              "       1151.23, 1158.81, 1182.97,  839.  , 1112.47, 1117.72, 1011.08,\n",
              "       1088.61, 1104.14,  915.72, 1162.71,  946.36,  865.97,  936.09,\n",
              "        954.29,  942.71,  908.55, 1015.57, 1051.34,  930.8 ,  994.29,\n",
              "        961.46,  903.51])"
            ]
          },
          "metadata": {
            "tags": []
          },
          "execution_count": 1
        }
      ]
    },
    {
      "cell_type": "code",
      "metadata": {
        "colab": {
          "base_uri": "https://localhost:8080/",
          "height": 35
        },
        "id": "q2apQ01bxg3I",
        "outputId": "111e6cdb-6bd9-4ee7-e52f-7a0bacf532af"
      },
      "source": [
        "f'N({np.mean(a_salarios)};{np.std(a_salarios)})'"
      ],
      "execution_count": 81,
      "outputs": [
        {
          "output_type": "execute_result",
          "data": {
            "application/vnd.google.colaboratory.intrinsic+json": {
              "type": "string"
            },
            "text/plain": [
              "'N(1047.150212238584;101.18708333868835)'"
            ]
          },
          "metadata": {
            "tags": []
          },
          "execution_count": 81
        }
      ]
    },
    {
      "cell_type": "code",
      "metadata": {
        "colab": {
          "base_uri": "https://localhost:8080/",
          "height": 283
        },
        "id": "ucN7ShBcySc2",
        "outputId": "83f7ee32-0d82-456c-87f7-3df1bc3882d0"
      },
      "source": [
        "import seaborn as sns\n",
        "sns.boxplot(x=a_salarios)"
      ],
      "execution_count": 84,
      "outputs": [
        {
          "output_type": "execute_result",
          "data": {
            "text/plain": [
              "<matplotlib.axes._subplots.AxesSubplot at 0x7f3cc8259ed0>"
            ]
          },
          "metadata": {
            "tags": []
          },
          "execution_count": 84
        },
        {
          "output_type": "display_data",
          "data": {
            "image/png": "[encoded data removed]",
            "text/plain": [
              "<Figure size 432x288 with 1 Axes>"
            ]
          },
          "metadata": {
            "tags": [],
            "needs_background": "light"
          }
        }
      ]
    },
    {
      "cell_type": "code",
      "metadata": {
        "colab": {
          "base_uri": "https://localhost:8080/"
        },
        "id": "pDQ_p2yvyy6u",
        "outputId": "38207c70-52fc-4b7f-b648-f204e77dfab2"
      },
      "source": [
        "percentis = np.percentile(a_salarios, q = [1, 5, 25, 50, 55, 75, 99])\n",
        "Q1 = percentis[2]\n",
        "Q3 = percentis[-2]\n",
        "print(Q1)\n",
        "print(Q3)"
      ],
      "execution_count": 85,
      "outputs": [
        {
          "output_type": "stream",
          "text": [
            "973.3240027196935\n",
            "1117.6985191828794\n"
          ],
          "name": "stdout"
        }
      ]
    },
    {
      "cell_type": "code",
      "metadata": {
        "colab": {
          "base_uri": "https://localhost:8080/"
        },
        "id": "tI6Vopcm0TXn",
        "outputId": "ef7d804c-cbb7-4d77-9ad6-eb648e62a545"
      },
      "source": [
        "a_salarios[a_salarios > Q3 + 1.5*(Q3-Q1)]"
      ],
      "execution_count": 86,
      "outputs": [
        {
          "output_type": "execute_result",
          "data": {
            "text/plain": [
              "array([1360.09, 1389.11])"
            ]
          },
          "metadata": {
            "tags": []
          },
          "execution_count": 86
        }
      ]
    },
    {
      "cell_type": "code",
      "metadata": {
        "colab": {
          "base_uri": "https://localhost:8080/"
        },
        "id": "o6pLI1tb1a5b",
        "outputId": "1669c079-7c26-4c0c-af69-997db0c88437"
      },
      "source": [
        "a_salarios[a_salarios < Q1 - 1.5*(Q3-Q1)]"
      ],
      "execution_count": 87,
      "outputs": [
        {
          "output_type": "execute_result",
          "data": {
            "text/plain": [
              "array([722.33, 725.77])"
            ]
          },
          "metadata": {
            "tags": []
          },
          "execution_count": 87
        }
      ]
    },
    {
      "cell_type": "code",
      "metadata": {
        "colab": {
          "base_uri": "https://localhost:8080/"
        },
        "id": "nNn-1bQC1s-k",
        "outputId": "ea1c0af9-e49d-4cd8-8778-cc41b01557ff"
      },
      "source": [
        "a_salarios.sort()\n",
        "# a_salarios[a_salarios > Q3 + 1.5*(Q3-Q1)] = 0\n",
        "  \n",
        "print(a_salarios[0:10])\n",
        "print(a_salarios[989:])\n"
      ],
      "execution_count": 88,
      "outputs": [
        {
          "output_type": "stream",
          "text": [
            "[722.33 725.77 761.76 775.49 803.44 804.31 804.53 807.87 809.65 810.26]\n",
            "[1265.25 1270.46 1273.69 1286.73 1295.63 1302.48 1303.19 1319.49 1332.65\n",
            " 1360.09 1389.11]\n"
          ],
          "name": "stdout"
        }
      ]
    },
    {
      "cell_type": "code",
      "metadata": {
        "colab": {
          "base_uri": "https://localhost:8080/"
        },
        "id": "4sNH7MxS5hKr",
        "outputId": "b462f736-f39e-472d-f65b-3bd93a356696"
      },
      "source": [
        "a_salarios.sort()\n",
        "a_salarios[a_salarios < Q1 - 1.5*(Q3-Q1)] = 0\n",
        "  \n",
        "print(a_salarios[0:10])"
      ],
      "execution_count": 89,
      "outputs": [
        {
          "output_type": "stream",
          "text": [
            "[  0.     0.   761.76 775.49 803.44 804.31 804.53 807.87 809.65 810.26]\n"
          ],
          "name": "stdout"
        }
      ]
    },
    {
      "cell_type": "code",
      "metadata": {
        "colab": {
          "base_uri": "https://localhost:8080/"
        },
        "id": "BZfagJwb5ur1",
        "outputId": "158e5e63-d08a-4512-a64d-2122dd71e3a7"
      },
      "source": [
        "a_salarios.sort()\n",
        "a_salarios[a_salarios > Q3 + 1.5*(Q3-Q1)] = 0\n",
        "  \n",
        "print(a_salarios[989:])"
      ],
      "execution_count": 90,
      "outputs": [
        {
          "output_type": "stream",
          "text": [
            "[1265.25 1270.46 1273.69 1286.73 1295.63 1302.48 1303.19 1319.49 1332.65\n",
            "    0.      0.  ]\n"
          ],
          "name": "stdout"
        }
      ]
    },
    {
      "cell_type": "code",
      "metadata": {
        "colab": {
          "base_uri": "https://localhost:8080/"
        },
        "id": "kizBJnko53BR",
        "outputId": "5be4d192-701b-41e6-ccd3-7d441e1d3146"
      },
      "source": [
        "print(a_salarios[0:10])\n",
        "print(a_salarios[989:])"
      ],
      "execution_count": 91,
      "outputs": [
        {
          "output_type": "stream",
          "text": [
            "[  0.     0.   761.76 775.49 803.44 804.31 804.53 807.87 809.65 810.26]\n",
            "[1265.25 1270.46 1273.69 1286.73 1295.63 1302.48 1303.19 1319.49 1332.65\n",
            "    0.      0.  ]\n"
          ],
          "name": "stdout"
        }
      ]
    },
    {
      "cell_type": "markdown",
      "metadata": {
        "id": "Fc3a-yhViCTs"
      },
      "source": [
        "### Geração aleatória dos índices que serão (manualmente) alterados"
      ]
    },
    {
      "cell_type": "code",
      "metadata": {
        "id": "Iakt6i1cgEcB",
        "colab": {
          "base_uri": "https://localhost:8080/"
        },
        "outputId": "7a515bee-595f-4424-e61e-49ca69199c0f"
      },
      "source": [
        "# Lista aleatória de índices que vou alterar\n",
        "np.random.seed(19741120)\n",
        "l_indices = np.random.randint(0, i_tamanho, 10)\n",
        "\n",
        "# Estas são as posições que serão alteradas (manualmente)\n",
        "np.sort(l_indices)"
      ],
      "execution_count": 2,
      "outputs": [
        {
          "output_type": "execute_result",
          "data": {
            "text/plain": [
              "array([ 14, 105, 208, 349, 484, 567, 615, 616, 622, 847])"
            ]
          },
          "metadata": {
            "tags": []
          },
          "execution_count": 2
        }
      ]
    },
    {
      "cell_type": "markdown",
      "metadata": {
        "id": "oXwME1rciHkw"
      },
      "source": [
        "### Cópia dos salários para compararmos o ANTES e DEPOIS"
      ]
    },
    {
      "cell_type": "code",
      "metadata": {
        "id": "BEtnua7sgp_y",
        "colab": {
          "base_uri": "https://localhost:8080/"
        },
        "outputId": "6da9e349-ab58-44ed-ddbc-7533fb5681da"
      },
      "source": [
        "# cópia do array a_salarios\n",
        "a_salarios_copia = a_salarios.copy()\n",
        "a_salarios_copia2 = a_salarios.copy()\n",
        "\n",
        "a_salarios[:30]"
      ],
      "execution_count": 3,
      "outputs": [
        {
          "output_type": "execute_result",
          "data": {
            "text/plain": [
              "array([1295.63, 1156.44, 1250.57, 1101.48, 1074.9 , 1149.93, 1032.39,\n",
              "       1151.23, 1158.81, 1182.97,  839.  , 1112.47, 1117.72, 1011.08,\n",
              "       1088.61, 1104.14,  915.72, 1162.71,  946.36,  865.97,  936.09,\n",
              "        954.29,  942.71,  908.55, 1015.57, 1051.34,  930.8 ,  994.29,\n",
              "        961.46,  903.51])"
            ]
          },
          "metadata": {
            "tags": []
          },
          "execution_count": 3
        }
      ]
    },
    {
      "cell_type": "markdown",
      "metadata": {
        "id": "So8qj3Yrh-Az"
      },
      "source": [
        "### Alteração (manual dos salários): 2 alternativas\n",
        "> Vamos medir o tempo para avaliarmos o que é mais rápido. Qual solução é mais rápida?"
      ]
    },
    {
      "cell_type": "code",
      "metadata": {
        "id": "Z0613on8z5VH"
      },
      "source": [
        "from timeit import default_timer as timer\n",
        "from datetime import timedelta"
      ],
      "execution_count": 4,
      "outputs": []
    },
    {
      "cell_type": "code",
      "metadata": {
        "id": "NpvvholVxMhs",
        "colab": {
          "base_uri": "https://localhost:8080/"
        },
        "outputId": "a1e721ab-6ba2-4879-b64f-ccd81b5bf2b7"
      },
      "source": [
        "# Índices a serem alterados\n",
        "l_indices"
      ],
      "execution_count": 5,
      "outputs": [
        {
          "output_type": "execute_result",
          "data": {
            "text/plain": [
              "array([567,  14, 616, 484, 208, 105, 349, 615, 622, 847])"
            ]
          },
          "metadata": {
            "tags": []
          },
          "execution_count": 5
        }
      ]
    },
    {
      "cell_type": "markdown",
      "metadata": {
        "id": "BqXsmMdm1yF-"
      },
      "source": [
        "#### Solução 1"
      ]
    },
    {
      "cell_type": "code",
      "metadata": {
        "id": "FiiOrlnbgKOD",
        "colab": {
          "base_uri": "https://localhost:8080/"
        },
        "outputId": "1bc105b7-7853-4995-ddbf-27ea0c2b76b0"
      },
      "source": [
        "# Alteração dos salários dos índices propostos\n",
        "start = timer()\n",
        "for i_indice in l_indices:\n",
        "    a_salarios_copia[i_indice] = 2*a_salarios[i_indice] # Loop para os índices a serem alterados (manualmente)\n",
        "\n",
        "a_salarios_copia[:30]\n",
        "end = timer()\n",
        "print(timedelta(seconds=end-start))"
      ],
      "execution_count": 10,
      "outputs": [
        {
          "output_type": "stream",
          "text": [
            "0:00:00.000135\n"
          ],
          "name": "stdout"
        }
      ]
    },
    {
      "cell_type": "markdown",
      "metadata": {
        "id": "FgvKC-aFzWpZ"
      },
      "source": [
        "#### Solução 2"
      ]
    },
    {
      "cell_type": "code",
      "metadata": {
        "id": "XWlQC5Jazt26",
        "colab": {
          "base_uri": "https://localhost:8080/"
        },
        "outputId": "ea13a0dd-1a58-4f66-8971-7a63e4b78b1c"
      },
      "source": [
        "start = timer()\n",
        "a_salarios_copia2[l_indices] = 2*a_salarios_copia2[l_indices] # Loop para os índices a serem alterados (manualmente)\n",
        "a_salarios_copia2[:30]\n",
        "end = timer()\n",
        "\n",
        "print(timedelta(seconds=end-start))"
      ],
      "execution_count": 11,
      "outputs": [
        {
          "output_type": "stream",
          "text": [
            "0:00:00.000085\n"
          ],
          "name": "stdout"
        }
      ]
    },
    {
      "cell_type": "markdown",
      "metadata": {
        "id": "U92w03afhrmC"
      },
      "source": [
        "### Compare"
      ]
    },
    {
      "cell_type": "code",
      "metadata": {
        "id": "Ls-jCFCYhtD8",
        "colab": {
          "base_uri": "https://localhost:8080/"
        },
        "outputId": "7e016371-f676-4a79-ad04-b05fe291e0c9"
      },
      "source": [
        "# Antes\n",
        "a_salarios[l_indices]"
      ],
      "execution_count": 12,
      "outputs": [
        {
          "output_type": "execute_result",
          "data": {
            "text/plain": [
              "array([ 826.43, 1088.61, 1121.95,  833.96, 1165.97, 1081.13, 1078.51,\n",
              "       1094.67,  904.32, 1128.66])"
            ]
          },
          "metadata": {
            "tags": []
          },
          "execution_count": 12
        }
      ]
    },
    {
      "cell_type": "code",
      "metadata": {
        "id": "nwwU06OahzD2",
        "colab": {
          "base_uri": "https://localhost:8080/"
        },
        "outputId": "da19f820-96bf-46c5-a7e5-3dd992ab18a4"
      },
      "source": [
        "# Depois\n",
        "a_salarios_copia[l_indices]"
      ],
      "execution_count": 13,
      "outputs": [
        {
          "output_type": "execute_result",
          "data": {
            "text/plain": [
              "array([1652.85, 2177.23, 2243.89, 1667.93, 2331.93, 2162.26, 2157.02,\n",
              "       2189.34, 1808.63, 2257.32])"
            ]
          },
          "metadata": {
            "tags": []
          },
          "execution_count": 13
        }
      ]
    },
    {
      "cell_type": "code",
      "metadata": {
        "id": "qyUUdHmtisJS",
        "colab": {
          "base_uri": "https://localhost:8080/"
        },
        "outputId": "a50bc78e-0683-4150-b0ec-47113b267b95"
      },
      "source": [
        "# 30 primeiras elementos de a_salarios\n",
        "a_salarios[:30]"
      ],
      "execution_count": 14,
      "outputs": [
        {
          "output_type": "execute_result",
          "data": {
            "text/plain": [
              "array([1295.63, 1156.44, 1250.57, 1101.48, 1074.9 , 1149.93, 1032.39,\n",
              "       1151.23, 1158.81, 1182.97,  839.  , 1112.47, 1117.72, 1011.08,\n",
              "       1088.61, 1104.14,  915.72, 1162.71,  946.36,  865.97,  936.09,\n",
              "        954.29,  942.71,  908.55, 1015.57, 1051.34,  930.8 ,  994.29,\n",
              "        961.46,  903.51])"
            ]
          },
          "metadata": {
            "tags": []
          },
          "execution_count": 14
        }
      ]
    },
    {
      "cell_type": "code",
      "metadata": {
        "id": "CJ1FEjlCi0-n",
        "colab": {
          "base_uri": "https://localhost:8080/"
        },
        "outputId": "640696cf-7155-48ac-c1f3-3b6a3d7c6a10"
      },
      "source": [
        "# 30 primeiras posições de a_salarios_copia\n",
        "a_salarios_copia[:30]"
      ],
      "execution_count": 15,
      "outputs": [
        {
          "output_type": "execute_result",
          "data": {
            "text/plain": [
              "array([1295.63, 1156.44, 1250.57, 1101.48, 1074.9 , 1149.93, 1032.39,\n",
              "       1151.23, 1158.81, 1182.97,  839.  , 1112.47, 1117.72, 1011.08,\n",
              "       2177.23, 1104.14,  915.72, 1162.71,  946.36,  865.97,  936.09,\n",
              "        954.29,  942.71,  908.55, 1015.57, 1051.34,  930.8 ,  994.29,\n",
              "        961.46,  903.51])"
            ]
          },
          "metadata": {
            "tags": []
          },
          "execution_count": 15
        }
      ]
    },
    {
      "cell_type": "markdown",
      "metadata": {
        "id": "wKbSUgxxiOUL"
      },
      "source": [
        "### Algumas Estatísticas Descritivas:\n",
        "#### Antes"
      ]
    },
    {
      "cell_type": "code",
      "metadata": {
        "id": "ZnmykyahLWX9",
        "colab": {
          "base_uri": "https://localhost:8080/",
          "height": 35
        },
        "outputId": "ad58da7b-8a47-47c1-e321-936d247bb5da"
      },
      "source": [
        "f'Média: {np.mean(a_salarios)}; Mediana: {np.median(a_salarios)}; STD: {np.std(a_salarios)}'"
      ],
      "execution_count": 16,
      "outputs": [
        {
          "output_type": "execute_result",
          "data": {
            "application/vnd.google.colaboratory.intrinsic+json": {
              "type": "string"
            },
            "text/plain": [
              "'Média: 1047.150212238584; Mediana: 1047.631166829137; STD: 101.18708333868835'"
            ]
          },
          "metadata": {
            "tags": []
          },
          "execution_count": 16
        }
      ]
    },
    {
      "cell_type": "markdown",
      "metadata": {
        "id": "ow7MHjgmPIty"
      },
      "source": [
        "#### Depois"
      ]
    },
    {
      "cell_type": "code",
      "metadata": {
        "id": "5iO-BAikieHJ",
        "colab": {
          "base_uri": "https://localhost:8080/",
          "height": 35
        },
        "outputId": "c884f777-89a5-4758-c7de-d5ca1c63ccdf"
      },
      "source": [
        "f'Média: {np.mean(a_salarios_copia)}; Mediana: {np.median(a_salarios_copia)}; STD: {np.std(a_salarios_copia)}'"
      ],
      "execution_count": 17,
      "outputs": [
        {
          "output_type": "execute_result",
          "data": {
            "application/vnd.google.colaboratory.intrinsic+json": {
              "type": "string"
            },
            "text/plain": [
              "'Média: 1057.4744151862524; Mediana: 1048.089607774499; STD: 144.64306489539533'"
            ]
          },
          "metadata": {
            "tags": []
          },
          "execution_count": 17
        }
      ]
    },
    {
      "cell_type": "markdown",
      "metadata": {
        "id": "ILhNe80xW5C6"
      },
      "source": [
        "### Solução do desafio"
      ]
    },
    {
      "cell_type": "code",
      "metadata": {
        "id": "OyFbWs-APowd",
        "colab": {
          "base_uri": "https://localhost:8080/",
          "height": 283
        },
        "outputId": "dadc0591-7276-45de-ad4f-2b979128b35b"
      },
      "source": [
        "# Import a biblioteca seaborn:\n",
        "import seaborn as sns\n",
        "\n",
        "# Boxplot antes dos \"outliers\"\n",
        "sns.boxplot(x = a_salarios)"
      ],
      "execution_count": 20,
      "outputs": [
        {
          "output_type": "execute_result",
          "data": {
            "text/plain": [
              "<matplotlib.axes._subplots.AxesSubplot at 0x7fc447755e90>"
            ]
          },
          "metadata": {
            "tags": []
          },
          "execution_count": 20
        },
        {
          "output_type": "display_data",
          "data": {
            "image/png": "[encoded data removed]",
            "text/plain": [
              "<Figure size 432x288 with 1 Axes>"
            ]
          },
          "metadata": {
            "tags": [],
            "needs_background": "light"
          }
        }
      ]
    },
    {
      "cell_type": "code",
      "metadata": {
        "id": "U993i1GJg2hk",
        "colab": {
          "base_uri": "https://localhost:8080/",
          "height": 283
        },
        "outputId": "bccc8cc9-c00a-4ff5-dbbb-b1b5ed83dd0e"
      },
      "source": [
        "# Boxplot do array a_salarios_copia depois dos \"outliers\"\n",
        "sns.boxplot(x = a_salarios_copia)"
      ],
      "execution_count": 21,
      "outputs": [
        {
          "output_type": "execute_result",
          "data": {
            "text/plain": [
              "<matplotlib.axes._subplots.AxesSubplot at 0x7fc447737110>"
            ]
          },
          "metadata": {
            "tags": []
          },
          "execution_count": 21
        },
        {
          "output_type": "display_data",
          "data": {
            "image/png": "[encoded data removed]",
            "text/plain": [
              "<Figure size 432x288 with 1 Axes>"
            ]
          },
          "metadata": {
            "tags": [],
            "needs_background": "light"
          }
        }
      ]
    },
    {
      "cell_type": "markdown",
      "metadata": {
        "id": "VtenLK1uK1Pi"
      },
      "source": [
        "Consegue identificar os outliers do array?"
      ]
    },
    {
      "cell_type": "markdown",
      "metadata": {
        "id": "e3sHuGVGFBdW"
      },
      "source": [
        "## Objetivo\n",
        "> Identificar e substituir os outliers pela mediana dos dados. \n",
        "\n",
        "* Como fazer isso?"
      ]
    },
    {
      "cell_type": "markdown",
      "metadata": {
        "id": "RSegPNKCI-dS"
      },
      "source": [
        "### Siga os passos a seguir\n",
        "1. Calcule estatísticas descritivas antes das transformações par avaliar o impacto;\n",
        "    * Calcule média, mediana e desvio-padrão dos dados originais;\n",
        "2. Calcule os valores a seguir:\n",
        "    * Q1, Q3\n",
        "    * IQR = Q3-Q1\n",
        "    * lim_inferior_outlier = Q1-1.5\\*IQR\n",
        "    * lim_superior_outlier = Q3+1.5\\*IQR\n",
        "3. Proceda à substituição:\n",
        "    * Se a_salarios_copia[i] < lim_inferior_outlier então a_salarios_copia[i]= Mediana\n",
        "    * Se a_salarios_copia[i] > lim_superior_outlier então a_salarios_copia[i]= Mediana\n",
        "4. Calcule as estatísticas descritivas após as substituições e compare com os valores antes das transformações."
      ]
    },
    {
      "cell_type": "markdown",
      "metadata": {
        "id": "9DQ7YnWaFn4v"
      },
      "source": [
        "### Minha solução\n"
      ]
    },
    {
      "cell_type": "markdown",
      "metadata": {
        "id": "RBXJbTeGLC7Q"
      },
      "source": [
        "1. Estatísticas Descritivas antes das transformações:"
      ]
    },
    {
      "cell_type": "code",
      "metadata": {
        "id": "QueKYn7MLG12",
        "colab": {
          "base_uri": "https://localhost:8080/",
          "height": 35
        },
        "outputId": "b124ba64-70b9-4974-efb8-f2b422294dbc"
      },
      "source": [
        "# Algumas estatísticas descritivas:\n",
        "f'Média: {np.mean(a_salarios_copia)}; Mediana: {np.median(a_salarios_copia)}; STD: {np.std(a_salarios_copia)}'"
      ],
      "execution_count": 22,
      "outputs": [
        {
          "output_type": "execute_result",
          "data": {
            "application/vnd.google.colaboratory.intrinsic+json": {
              "type": "string"
            },
            "text/plain": [
              "'Média: 1057.4744151862524; Mediana: 1048.089607774499; STD: 144.64306489539533'"
            ]
          },
          "metadata": {
            "tags": []
          },
          "execution_count": 22
        }
      ]
    },
    {
      "cell_type": "markdown",
      "metadata": {
        "id": "oOBJ8INWL5fo"
      },
      "source": [
        "Observe o quanto nossos dados estão distorcidos dos valores originalmente utilizados."
      ]
    },
    {
      "cell_type": "markdown",
      "metadata": {
        "id": "MX-fJeh2MBTD"
      },
      "source": [
        "2. Calcular Q1, Q3 e IQR"
      ]
    },
    {
      "cell_type": "code",
      "metadata": {
        "id": "JlsPiQeGMGeU"
      },
      "source": [
        "Q1 = np.percentile(a_salarios_copia, q = [25])\n",
        "Q3 = np.percentile(a_salarios_copia, q = [75])\n",
        "Q2 = np.percentile(a_salarios_copia, q = [50])\n",
        "p99 = np.percentile(a_salarios_copia, q = [99])\n",
        "p95 = np.percentile(a_salarios_copia, q = [95])\n",
        "\n",
        "IQR = Q3-Q1 # Diferença interquartílica\n",
        "lim_inferior_outlier = Q1-1.5*IQR\n",
        "lim_superior_outlier = Q3+1.5*IQR"
      ],
      "execution_count": 23,
      "outputs": []
    },
    {
      "cell_type": "code",
      "metadata": {
        "id": "VF2NJ3rCeI1_",
        "colab": {
          "base_uri": "https://localhost:8080/",
          "height": 35
        },
        "outputId": "cb7369b4-7d87-430c-a7e6-a943e35b9947"
      },
      "source": [
        "f'Q1: {Q1}; Q3: {Q3}; Q2: {Q2};lim_inferior_outlier: {lim_inferior_outlier}; lim_superior_outlier: {lim_superior_outlier}'"
      ],
      "execution_count": 29,
      "outputs": [
        {
          "output_type": "execute_result",
          "data": {
            "application/vnd.google.colaboratory.intrinsic+json": {
              "type": "string"
            },
            "text/plain": [
              "'Q1: [974.41]; Q3: [1119.81]; Q2: [1048.09];lim_inferior_outlier: [756.33]; lim_superior_outlier: [1337.89]'"
            ]
          },
          "metadata": {
            "tags": []
          },
          "execution_count": 29
        }
      ]
    },
    {
      "cell_type": "markdown",
      "metadata": {
        "id": "JjnwJ7HwMxcl"
      },
      "source": [
        "3. Substituir\n",
        "* Se a_salarios[i] < lim_inferior_outlier --> a_salarios[i] = Mediana\n",
        "* Se a_salarios[i] > lim_superior_outlier --> a_salarios[i] = Mediana"
      ]
    },
    {
      "cell_type": "code",
      "metadata": {
        "id": "hcAn-IwVfbcI"
      },
      "source": [
        "a_salarios2 = a_salarios_copia.copy()"
      ],
      "execution_count": 25,
      "outputs": []
    },
    {
      "cell_type": "code",
      "metadata": {
        "id": "M4UJY4vbRics",
        "colab": {
          "base_uri": "https://localhost:8080/"
        },
        "outputId": "789895f0-4dde-4ba7-ce94-0c2c26fa6368"
      },
      "source": [
        "Q2[0]"
      ],
      "execution_count": 27,
      "outputs": [
        {
          "output_type": "execute_result",
          "data": {
            "text/plain": [
              "1048.089607774499"
            ]
          },
          "metadata": {
            "tags": []
          },
          "execution_count": 27
        }
      ]
    },
    {
      "cell_type": "code",
      "metadata": {
        "id": "J3SSE45oM9oh",
        "colab": {
          "base_uri": "https://localhost:8080/"
        },
        "outputId": "9dcbd936-3492-4a71-a77b-a8208957f9fd"
      },
      "source": [
        "a_salarios2[a_salarios2 < lim_inferior_outlier[0]] = Q2[0] # Atribuição da Mediana\n",
        "a_salarios2[a_salarios2 > lim_superior_outlier[0]] = Q2[0] # Atribuição da Mediana\n",
        "a_salarios2[:30]"
      ],
      "execution_count": 28,
      "outputs": [
        {
          "output_type": "execute_result",
          "data": {
            "text/plain": [
              "array([1295.63, 1156.44, 1250.57, 1101.48, 1074.9 , 1149.93, 1032.39,\n",
              "       1151.23, 1158.81, 1182.97,  839.  , 1112.47, 1117.72, 1011.08,\n",
              "       1048.09, 1104.14,  915.72, 1162.71,  946.36,  865.97,  936.09,\n",
              "        954.29,  942.71,  908.55, 1015.57, 1051.34,  930.8 ,  994.29,\n",
              "        961.46,  903.51])"
            ]
          },
          "metadata": {
            "tags": []
          },
          "execution_count": 28
        }
      ]
    },
    {
      "cell_type": "markdown",
      "metadata": {
        "id": "VEGFio0Nfj7O"
      },
      "source": [
        "4. Estatísticas Descritivas para avaliarmos o impacto das alterações na amostra:"
      ]
    },
    {
      "cell_type": "code",
      "metadata": {
        "id": "gX1LZHFqfjFQ",
        "colab": {
          "base_uri": "https://localhost:8080/",
          "height": 35
        },
        "outputId": "a51c794c-b75c-4304-f3e8-fa69c04fc46b"
      },
      "source": [
        "# Algumas estatísticas descritivas - Depois do trtamento de OUtliers:\n",
        "f'Média: {np.mean(a_salarios2)}; Mediana: {np.median(a_salarios2)}; STD: {np.std(a_salarios2)}'"
      ],
      "execution_count": 30,
      "outputs": [
        {
          "output_type": "execute_result",
          "data": {
            "application/vnd.google.colaboratory.intrinsic+json": {
              "type": "string"
            },
            "text/plain": [
              "'Média: 1047.3019702056902; Mediana: 1048.089607774499; STD: 98.3265929249586'"
            ]
          },
          "metadata": {
            "tags": []
          },
          "execution_count": 30
        }
      ]
    },
    {
      "cell_type": "code",
      "metadata": {
        "id": "cSXrg2PFSYKY",
        "colab": {
          "base_uri": "https://localhost:8080/",
          "height": 35
        },
        "outputId": "93fb4aed-516c-4ae2-af5f-8e3c794b3bff"
      },
      "source": [
        "# Algumas estatísticas descritivas - Antes do trtamento de OUtliers:\n",
        "f'Média: {np.mean(a_salarios)}; Mediana: {np.median(a_salarios)}; STD: {np.std(a_salarios)}'"
      ],
      "execution_count": 31,
      "outputs": [
        {
          "output_type": "execute_result",
          "data": {
            "application/vnd.google.colaboratory.intrinsic+json": {
              "type": "string"
            },
            "text/plain": [
              "'Média: 1047.150212238584; Mediana: 1047.631166829137; STD: 101.18708333868835'"
            ]
          },
          "metadata": {
            "tags": []
          },
          "execution_count": 31
        }
      ]
    },
    {
      "cell_type": "markdown",
      "metadata": {
        "id": "ZVc6_nsGS_J2"
      },
      "source": [
        "### Exercício: Substituir e comentar com seus respectivos colegas de grupo quando substituimos:\n",
        "* Q2[0] pela média.\n",
        "* Q2[0] pelo valor do percentil 95 e 99."
      ]
    },
    {
      "cell_type": "code",
      "metadata": {
        "id": "-xnguZ7XgyvK",
        "colab": {
          "base_uri": "https://localhost:8080/",
          "height": 283
        },
        "outputId": "be430ade-7bfb-4e17-dd13-a8a04d0cb2fb"
      },
      "source": [
        "# Import a biblioteca seaborn:\n",
        "import seaborn as sns\n",
        "sns.boxplot(x = a_salarios2)"
      ],
      "execution_count": 34,
      "outputs": [
        {
          "output_type": "execute_result",
          "data": {
            "text/plain": [
              "<matplotlib.axes._subplots.AxesSubplot at 0x7fc4476c1a50>"
            ]
          },
          "metadata": {
            "tags": []
          },
          "execution_count": 34
        },
        {
          "output_type": "display_data",
          "data": {
            "image/png": "[encoded data removed]",
            "text/plain": [
              "<Figure size 432x288 with 1 Axes>"
            ]
          },
          "metadata": {
            "tags": [],
            "needs_background": "light"
          }
        }
      ]
    },
    {
      "cell_type": "markdown",
      "metadata": {
        "id": "uEPFcBjFhETQ"
      },
      "source": [
        "Como podem ver, os outliers desapareceram, como queríamos."
      ]
    },
    {
      "cell_type": "markdown",
      "metadata": {
        "id": "tHfzjW_ymKuR"
      },
      "source": [
        "___\n",
        "# **Valores únicos**\n",
        "> Considere o array de a_idades a seguir:"
      ]
    },
    {
      "cell_type": "code",
      "metadata": {
        "id": "HzmQgWZVmUUD",
        "colab": {
          "base_uri": "https://localhost:8080/",
          "height": 121
        },
        "outputId": "a8fe3bba-2483-4c62-8d46-963f79ae0462"
      },
      "source": [
        "np.random.seed(20111974)\n",
        "a_idades = np.random.randint(18, 100, 100)\n",
        "a_idades"
      ],
      "execution_count": null,
      "outputs": [
        {
          "output_type": "execute_result",
          "data": {
            "text/plain": [
              "array([78, 60, 58, 26, 45, 20, 64, 99, 98, 31, 48, 81, 97, 90, 31, 85, 51,\n",
              "       91, 95, 60, 73, 63, 59, 39, 40, 26, 80, 28, 18, 33, 27, 85, 53, 60,\n",
              "       26, 44, 23, 86, 92, 75, 58, 40, 63, 24, 99, 18, 43, 68, 98, 94, 47,\n",
              "       25, 39, 23, 70, 49, 96, 79, 68, 68, 25, 59, 21, 51, 65, 23, 34, 51,\n",
              "       37, 78, 74, 73, 71, 46, 34, 45, 40, 56, 67, 31, 22, 43, 65, 64, 36,\n",
              "       76, 19, 82, 75, 35, 38, 68, 43, 73, 91, 92, 61, 37, 73, 72])"
            ]
          },
          "metadata": {
            "tags": []
          },
          "execution_count": 73
        }
      ]
    },
    {
      "cell_type": "markdown",
      "metadata": {
        "id": "Dm9ky1F1mrNA"
      },
      "source": [
        "Quem são os valores únicos do array?"
      ]
    },
    {
      "cell_type": "code",
      "metadata": {
        "id": "G-LPRqc-mS5j",
        "colab": {
          "base_uri": "https://localhost:8080/",
          "height": 87
        },
        "outputId": "6c61d635-95b9-4cec-e7d8-12ec2b0e0322"
      },
      "source": [
        "np.unique(a_idades)"
      ],
      "execution_count": null,
      "outputs": [
        {
          "output_type": "execute_result",
          "data": {
            "text/plain": [
              "array([18, 19, 20, 21, 22, 23, 24, 25, 26, 27, 28, 31, 33, 34, 35, 36, 37,\n",
              "       38, 39, 40, 43, 44, 45, 46, 47, 48, 49, 51, 53, 56, 58, 59, 60, 61,\n",
              "       63, 64, 65, 67, 68, 70, 71, 72, 73, 74, 75, 76, 78, 79, 80, 81, 82,\n",
              "       85, 86, 90, 91, 92, 94, 95, 96, 97, 98, 99])"
            ]
          },
          "metadata": {
            "tags": []
          },
          "execution_count": 74
        }
      ]
    },
    {
      "cell_type": "markdown",
      "metadata": {
        "id": "uXZZoTd6nMuq"
      },
      "source": [
        "___\n",
        "# **Diferença entre dois arrays**\n",
        "> O resultado é um array com os **valores únicos de A que não estão em B**. Na teoria de conjuntos escrevemos $A - B = A - A \\cap B$.\n",
        "\n",
        "![Difference](https://github.com/MathMachado/Materials/blob/master/set_Difference.PNG?raw=true)\n",
        "\n",
        "Fonte: [Python Set](https://www.learnbyexample.org/python-set/)"
      ]
    },
    {
      "cell_type": "markdown",
      "metadata": {
        "id": "uW6i3m9q1ZNs"
      },
      "source": [
        "\n",
        "* Vamos ver como isso funciona na prática:"
      ]
    },
    {
      "cell_type": "markdown",
      "metadata": {
        "id": "vw05sfe22mfk"
      },
      "source": [
        "## Exemplo 1"
      ]
    },
    {
      "cell_type": "code",
      "metadata": {
        "id": "Qqw2do90nQ7k"
      },
      "source": [
        "a_conjunto1 = np.array([0, 1, 2, 4, 5, 7, 8, 8]) # array de valores que serão excluidos em a_conjunto1. Observe que '3' não pertence a a_conjunto1.\n",
        "a_conjunto2 = np.array([1, 6, 7, 3])"
      ],
      "execution_count": null,
      "outputs": []
    },
    {
      "cell_type": "code",
      "metadata": {
        "id": "zXJ00pOMorM-",
        "colab": {
          "base_uri": "https://localhost:8080/",
          "height": 35
        },
        "outputId": "c3108557-ad55-45cc-f707-3af35cf456c1"
      },
      "source": [
        "np.setdiff1d(a_conjunto1, a_conjunto2)"
      ],
      "execution_count": null,
      "outputs": [
        {
          "output_type": "execute_result",
          "data": {
            "text/plain": [
              "array([0, 2, 4, 5, 8])"
            ]
          },
          "metadata": {
            "tags": []
          },
          "execution_count": 50
        }
      ]
    },
    {
      "cell_type": "markdown",
      "metadata": {
        "id": "8GXZNgjfo8lO"
      },
      "source": [
        "Observe que o resultado são os elementos de a_conjunto1 que não pertencem a x_Y. Mas como fica o '3' nesta história?"
      ]
    },
    {
      "cell_type": "markdown",
      "metadata": {
        "id": "aJSu6VKb2oc_"
      },
      "source": [
        "## Exemplo 2"
      ]
    },
    {
      "cell_type": "code",
      "metadata": {
        "id": "N1wahElXTqoB"
      },
      "source": [
        "a_conjunto1 = np.arange(10)\n",
        "a_conjunto1"
      ],
      "execution_count": null,
      "outputs": []
    },
    {
      "cell_type": "code",
      "metadata": {
        "id": "nxDpCMg7T7Rj"
      },
      "source": [
        "a_conjunto2 = np.array([1, 5, 7])\n",
        "a_conjunto2"
      ],
      "execution_count": null,
      "outputs": []
    },
    {
      "cell_type": "code",
      "metadata": {
        "id": "3LU3qYyiUXqm"
      },
      "source": [
        "np.setdiff1d(a_conjunto1, a_conjunto2)"
      ],
      "execution_count": null,
      "outputs": []
    },
    {
      "cell_type": "markdown",
      "metadata": {
        "id": "mzZEytrRUioU"
      },
      "source": [
        "Observe que os elementos de a_conjunto2 foram deletados de a_conjunto1. Ok?"
      ]
    },
    {
      "cell_type": "markdown",
      "metadata": {
        "id": "gJRcoVRUnaY9"
      },
      "source": [
        "___\n",
        "# Diferença Simétrica\n",
        "* Em teoria de conjuntos, chamamos de Diferença Simétrica e escrevemos $(A \\cup B)- (A \\cap B)$.\n",
        "\n",
        "![DifferenceSymetric](https://github.com/MathMachado/Materials/blob/master/set_DifferenceSymetric.PNG?raw=true)\n",
        "\n",
        "Fonte: [Python Set](https://www.learnbyexample.org/python-set/)"
      ]
    },
    {
      "cell_type": "markdown",
      "metadata": {
        "id": "2Uzzm85Kup3H"
      },
      "source": [
        "* Vamos ver como isso funciona na prática:"
      ]
    },
    {
      "cell_type": "code",
      "metadata": {
        "id": "1z5wZ8VwpsWN"
      },
      "source": [
        "import numpy as np\n",
        "a_conjunto1 = np.array([0, 1, 2, 4, 5, 7, 8]) # Observe que [1, 4, 7] pertencem a a_conjunto1, mas 3, não. Portanto:\n",
        "a_conjunto2 = np.array([1, 4, 7, 3])"
      ],
      "execution_count": null,
      "outputs": []
    },
    {
      "cell_type": "code",
      "metadata": {
        "id": "Tqd_9XO5p7bo",
        "colab": {
          "base_uri": "https://localhost:8080/",
          "height": 35
        },
        "outputId": "d7670965-e38f-40a1-9864-8ec850143245"
      },
      "source": [
        "np.setxor1d(a_conjunto1, a_conjunto2)"
      ],
      "execution_count": null,
      "outputs": [
        {
          "output_type": "execute_result",
          "data": {
            "text/plain": [
              "array([0, 2, 3, 5, 8])"
            ]
          },
          "metadata": {
            "tags": []
          },
          "execution_count": 52
        }
      ]
    },
    {
      "cell_type": "markdown",
      "metadata": {
        "id": "_meurG3mqS5Y"
      },
      "source": [
        "Como explicamos ou interpretamos este resultado?"
      ]
    },
    {
      "cell_type": "markdown",
      "metadata": {
        "id": "Kc8JoKe2nj2n"
      },
      "source": [
        "___\n",
        "# **União de dois arrays**\n",
        "> Retorna os valores **únicos** dos dois arrays. Na teoria dos conjuntos, escrevemos:\n",
        "\n",
        "$$A \\cup B$$\n",
        "\n",
        "![Union](https://github.com/MathMachado/Materials/blob/master/set_Union.PNG?raw=true)\n",
        "\n",
        "Fonte: [Python Set](https://www.learnbyexample.org/python-set/)"
      ]
    },
    {
      "cell_type": "code",
      "metadata": {
        "id": "1LZxorw2p2mg"
      },
      "source": [
        "a_conjunto1 = np.array([0, 1, 2, 4, 5, 7, 8, 8])\n",
        "\n",
        "# Observe que [1, 4, 7] pertencem a a_conjunto1, mas 3, não. Portanto:\n",
        "a_conjunto2 = np.array([1, 4, 7, 3])"
      ],
      "execution_count": null,
      "outputs": []
    },
    {
      "cell_type": "code",
      "metadata": {
        "id": "COsZEmSwuY5L"
      },
      "source": [
        "np.union1d(a_conjunto1, a_conjunto2)"
      ],
      "execution_count": null,
      "outputs": []
    },
    {
      "cell_type": "markdown",
      "metadata": {
        "id": "b53bR-GYRu_3"
      },
      "source": [
        "___\n",
        "# **Selecionar itens comuns dos arrays X e Y**\n",
        "* Na teoria de conjuntos, chamamos de intersecção e escrevemos $X \\cap Y$.\n",
        "\n",
        "![Intersection](https://github.com/MathMachado/Materials/blob/master/set_Intersection.PNG?raw=true)\n",
        "\n",
        "Fonte: [Python Set](https://www.learnbyexample.org/python-set/)"
      ]
    },
    {
      "cell_type": "markdown",
      "metadata": {
        "id": "n2ec2tqqR1Gw"
      },
      "source": [
        "* Considere os arrays a seguir:"
      ]
    },
    {
      "cell_type": "code",
      "metadata": {
        "id": "rXVQQvBqR4J-",
        "colab": {
          "base_uri": "https://localhost:8080/",
          "height": 35
        },
        "outputId": "c1332edd-af01-45cb-d3e1-c6e3ba30e157"
      },
      "source": [
        "a_conjunto1 = np.arange(10)\n",
        "a_conjunto1"
      ],
      "execution_count": null,
      "outputs": [
        {
          "output_type": "execute_result",
          "data": {
            "text/plain": [
              "array([0, 1, 2, 3, 4, 5, 6, 7, 8, 9])"
            ]
          },
          "metadata": {
            "tags": []
          },
          "execution_count": 53
        }
      ]
    },
    {
      "cell_type": "code",
      "metadata": {
        "id": "pZTHhHxGSRfB",
        "colab": {
          "base_uri": "https://localhost:8080/",
          "height": 35
        },
        "outputId": "2c93501a-3ed8-4297-d58e-990c529a5a3d"
      },
      "source": [
        "a_conjunto2 = np.arange(8, 18)\n",
        "a_conjunto2"
      ],
      "execution_count": null,
      "outputs": [
        {
          "output_type": "execute_result",
          "data": {
            "text/plain": [
              "array([ 8,  9, 10, 11, 12, 13, 14, 15, 16, 17])"
            ]
          },
          "metadata": {
            "tags": []
          },
          "execution_count": 54
        }
      ]
    },
    {
      "cell_type": "markdown",
      "metadata": {
        "id": "MxB2_qHpScMB"
      },
      "source": [
        "Quais são os elementos comuns à X e Y?"
      ]
    },
    {
      "cell_type": "code",
      "metadata": {
        "id": "e-rncJHtSfw0",
        "colab": {
          "base_uri": "https://localhost:8080/",
          "height": 35
        },
        "outputId": "11f0b85d-c634-419a-cc62-e0899f9cef31"
      },
      "source": [
        "np.intersect1d(a_conjunto1, a_conjunto2)"
      ],
      "execution_count": null,
      "outputs": [
        {
          "output_type": "execute_result",
          "data": {
            "text/plain": [
              "array([8, 9])"
            ]
          },
          "metadata": {
            "tags": []
          },
          "execution_count": 55
        }
      ]
    },
    {
      "cell_type": "markdown",
      "metadata": {
        "id": "3Bb39sWdfqaF"
      },
      "source": [
        "___\n",
        "# **Autovalores e Autovetores**\n",
        "> Autovetor e Autovalor são um dos tópicos mais importantes em Machine Learning.\n",
        "\n",
        "Por definição, o escalar $\\lambda$ e o vetor $v$ são autovalor e autovetor da matriz $A$ se\n",
        "\n",
        "$$Av = \\lambda v$$\n",
        "\n",
        "## Leitura Adicional:\n",
        "\n",
        "* [Machine Learning & Linear Algebra — Eigenvalue and eigenvector](https://medium.com/@jonathan_hui/machine-learning-linear-algebra-eigenvalue-and-eigenvector-f8d0493564c9)"
      ]
    },
    {
      "cell_type": "markdown",
      "metadata": {
        "id": "XZBKq8nGCUbL"
      },
      "source": [
        "* O array a_conjunto2 tem a seguinte forma:"
      ]
    },
    {
      "cell_type": "code",
      "metadata": {
        "id": "iYlZGKFUfw-R"
      },
      "source": [
        "a_conjunto2"
      ],
      "execution_count": null,
      "outputs": []
    },
    {
      "cell_type": "code",
      "metadata": {
        "id": "6EfvIbBNf02Z"
      },
      "source": [
        "# Calcula autovalores e autovetores:\n",
        "a_autovalores, a_autovalores= np.linalg.eig(a_conjunto2)"
      ],
      "execution_count": null,
      "outputs": []
    },
    {
      "cell_type": "markdown",
      "metadata": {
        "id": "v3GtQQvAz9QU"
      },
      "source": [
        "Os autovalores do array a_conjunto2 são:"
      ]
    },
    {
      "cell_type": "code",
      "metadata": {
        "id": "WvZGyBR1f9vP"
      },
      "source": [
        "a_autovalores"
      ],
      "execution_count": null,
      "outputs": []
    },
    {
      "cell_type": "markdown",
      "metadata": {
        "id": "AuuDRJVh0FC8"
      },
      "source": [
        "Os autovetores do array a_conjunto2 são:"
      ]
    },
    {
      "cell_type": "code",
      "metadata": {
        "id": "6m4YFAwsf_rA"
      },
      "source": [
        "a_autovalores"
      ],
      "execution_count": null,
      "outputs": []
    },
    {
      "cell_type": "markdown",
      "metadata": {
        "id": "DASn2Un9ZNV-"
      },
      "source": [
        "___\n",
        "# **Encontrar Missing Values (NaN)**"
      ]
    },
    {
      "cell_type": "markdown",
      "metadata": {
        "id": "TKilWBsSXtR4"
      },
      "source": [
        "## Gerar o exemplo"
      ]
    },
    {
      "cell_type": "code",
      "metadata": {
        "id": "lqLI2ER_ZUMY"
      },
      "source": [
        "np.random.seed(20111974)\n",
        "a_conjunto1 = np.random.random(100)\n",
        "\n",
        "# Inserindo 15 NaN's no array:\n",
        "np.random.seed(20111974)\n",
        "l_indices_aleatorios= np.random.randint(0, 100, size = 15)\n",
        "\n",
        "for i_indices in l_indices_aleatorios:\n",
        "    #print(i_indices)\n",
        "    a_conjunto1[i_indices] = np.nan"
      ],
      "execution_count": null,
      "outputs": []
    },
    {
      "cell_type": "code",
      "metadata": {
        "id": "gw--poMaadv3",
        "colab": {
          "base_uri": "https://localhost:8080/",
          "height": 35
        },
        "outputId": "c0c0ccf1-f81c-4e01-beed-b0791476e027"
      },
      "source": [
        "l_indices_aleatorios"
      ],
      "execution_count": null,
      "outputs": [
        {
          "output_type": "execute_result",
          "data": {
            "text/plain": [
              "array([60, 42, 40,  8, 27,  2, 46, 88, 81, 88, 80, 13, 30, 82, 96])"
            ]
          },
          "metadata": {
            "tags": []
          },
          "execution_count": 58
        }
      ]
    },
    {
      "cell_type": "code",
      "metadata": {
        "id": "2ZkbMPXMawYh",
        "colab": {
          "base_uri": "https://localhost:8080/",
          "height": 191
        },
        "outputId": "378b3c1b-12a4-4532-8538-9b2f9c2f717b"
      },
      "source": [
        "a_conjunto1"
      ],
      "execution_count": null,
      "outputs": [
        {
          "output_type": "execute_result",
          "data": {
            "text/plain": [
              "array([0.53, 0.57,  nan, 0.65, 0.86, 0.6 , 0.87, 0.46,  nan, 0.64, 0.55,\n",
              "       0.35, 0.32,  nan, 0.85, 0.76, 0.66, 0.33, 0.35, 0.42, 0.31, 0.27,\n",
              "       0.31, 0.36, 0.6 , 0.02, 0.36,  nan, 0.28, 0.37,  nan, 0.44, 0.2 ,\n",
              "       0.21, 0.65, 0.82, 0.72, 0.5 , 0.17, 0.6 ,  nan, 0.14,  nan, 0.71,\n",
              "       0.07, 0.56,  nan, 0.84, 0.21, 0.85, 0.63, 0.38, 0.91, 0.34, 0.07,\n",
              "       0.1 , 0.85, 0.12, 0.94, 0.16,  nan, 0.91, 0.59, 0.37, 0.72, 0.07,\n",
              "       0.48, 0.78, 0.97, 0.72, 0.29, 0.33, 0.95, 0.24, 0.98, 0.85, 0.63,\n",
              "       0.57, 0.67, 0.88,  nan,  nan,  nan, 0.68, 0.29, 0.33, 0.98, 0.17,\n",
              "        nan, 0.92, 0.98, 0.76, 0.31, 0.97, 0.08, 0.56,  nan, 0.49, 0.07,\n",
              "       0.11])"
            ]
          },
          "metadata": {
            "tags": []
          },
          "execution_count": 57
        }
      ]
    },
    {
      "cell_type": "markdown",
      "metadata": {
        "id": "Z7Bs75NvbSjx"
      },
      "source": [
        "Ok, inserimos aleatoriamente 14 NaN's no array a_conjunto1. Agora, vamos contar quantos NaN's (já sabemos a resposta!)."
      ]
    },
    {
      "cell_type": "markdown",
      "metadata": {
        "id": "hL1Wn0vdX8ur"
      },
      "source": [
        "## Identificar os NaN's"
      ]
    },
    {
      "cell_type": "code",
      "metadata": {
        "id": "5R-n3H0xbd6d",
        "colab": {
          "base_uri": "https://localhost:8080/",
          "height": 35
        },
        "outputId": "035b2bcf-d60d-454b-c2e1-44f709d7ebe6"
      },
      "source": [
        "np.isnan(a_conjunto1).sum()"
      ],
      "execution_count": null,
      "outputs": [
        {
          "output_type": "execute_result",
          "data": {
            "text/plain": [
              "14"
            ]
          },
          "metadata": {
            "tags": []
          },
          "execution_count": 63
        }
      ]
    },
    {
      "cell_type": "markdown",
      "metadata": {
        "id": "Y7hh5uowoa3U"
      },
      "source": [
        "Ok, temos 14 NaN's em a_conjunto1."
      ]
    },
    {
      "cell_type": "markdown",
      "metadata": {
        "id": "iVLQf_bqbyNU"
      },
      "source": [
        "Ok, agora eu quero saber os índices desses NaN's."
      ]
    },
    {
      "cell_type": "code",
      "metadata": {
        "id": "kJHxjZiwb5HM",
        "colab": {
          "base_uri": "https://localhost:8080/",
          "height": 35
        },
        "outputId": "66d45ffe-e81f-4ad7-a70a-ddb9cacfd7b4"
      },
      "source": [
        "i_indices = np.where(np.isnan(a_conjunto1))\n",
        "i_indices"
      ],
      "execution_count": null,
      "outputs": [
        {
          "output_type": "execute_result",
          "data": {
            "text/plain": [
              "(array([ 2,  8, 13, 27, 30, 40, 42, 46, 60, 80, 81, 82, 88, 96]),)"
            ]
          },
          "metadata": {
            "tags": []
          },
          "execution_count": 64
        }
      ]
    },
    {
      "cell_type": "code",
      "metadata": {
        "id": "W_jHGNImok7L",
        "colab": {
          "base_uri": "https://localhost:8080/",
          "height": 35
        },
        "outputId": "283ff411-2cf8-41bd-91e6-2790a9e1bbef"
      },
      "source": [
        "# Checando...\n",
        "a_conjunto1[2]"
      ],
      "execution_count": null,
      "outputs": [
        {
          "output_type": "execute_result",
          "data": {
            "text/plain": [
              "nan"
            ]
          },
          "metadata": {
            "tags": []
          },
          "execution_count": 65
        }
      ]
    },
    {
      "cell_type": "markdown",
      "metadata": {
        "id": "iPhHAhDYcMWO"
      },
      "source": [
        "Vamos conferir se está correto? Para isso, basta comparar com l_indices_aleatorios:"
      ]
    },
    {
      "cell_type": "markdown",
      "metadata": {
        "id": "gxQYslRCe11G"
      },
      "source": [
        "___\n",
        "# **Deletar NaN's de um array**\n",
        "> Considere o mesmo array que acabamos de trabalhar. Agora eu quero excluir os NaN's identificados."
      ]
    },
    {
      "cell_type": "code",
      "metadata": {
        "id": "AeBARFqNfNnN",
        "colab": {
          "base_uri": "https://localhost:8080/",
          "height": 191
        },
        "outputId": "bc4f82a3-0212-452d-c149-10b119903d8b"
      },
      "source": [
        "a_conjunto1"
      ],
      "execution_count": null,
      "outputs": [
        {
          "output_type": "execute_result",
          "data": {
            "text/plain": [
              "array([0.53, 0.57,  nan, 0.65, 0.86, 0.6 , 0.87, 0.46,  nan, 0.64, 0.55,\n",
              "       0.35, 0.32,  nan, 0.85, 0.76, 0.66, 0.33, 0.35, 0.42, 0.31, 0.27,\n",
              "       0.31, 0.36, 0.6 , 0.02, 0.36,  nan, 0.28, 0.37,  nan, 0.44, 0.2 ,\n",
              "       0.21, 0.65, 0.82, 0.72, 0.5 , 0.17, 0.6 ,  nan, 0.14,  nan, 0.71,\n",
              "       0.07, 0.56,  nan, 0.84, 0.21, 0.85, 0.63, 0.38, 0.91, 0.34, 0.07,\n",
              "       0.1 , 0.85, 0.12, 0.94, 0.16,  nan, 0.91, 0.59, 0.37, 0.72, 0.07,\n",
              "       0.48, 0.78, 0.97, 0.72, 0.29, 0.33, 0.95, 0.24, 0.98, 0.85, 0.63,\n",
              "       0.57, 0.67, 0.88,  nan,  nan,  nan, 0.68, 0.29, 0.33, 0.98, 0.17,\n",
              "        nan, 0.92, 0.98, 0.76, 0.31, 0.97, 0.08, 0.56,  nan, 0.49, 0.07,\n",
              "       0.11])"
            ]
          },
          "metadata": {
            "tags": []
          },
          "execution_count": 66
        }
      ]
    },
    {
      "cell_type": "code",
      "metadata": {
        "id": "ck1w6_Tvb72M",
        "colab": {
          "base_uri": "https://localhost:8080/",
          "height": 225
        },
        "outputId": "c9f3469a-5fcb-4794-882b-9a882871061f"
      },
      "source": [
        "np.isnan(a_conjunto1)"
      ],
      "execution_count": null,
      "outputs": [
        {
          "output_type": "execute_result",
          "data": {
            "text/plain": [
              "array([False, False,  True, False, False, False, False, False,  True,\n",
              "       False, False, False, False,  True, False, False, False, False,\n",
              "       False, False, False, False, False, False, False, False, False,\n",
              "        True, False, False,  True, False, False, False, False, False,\n",
              "       False, False, False, False,  True, False,  True, False, False,\n",
              "       False,  True, False, False, False, False, False, False, False,\n",
              "       False, False, False, False, False, False,  True, False, False,\n",
              "       False, False, False, False, False, False, False, False, False,\n",
              "       False, False, False, False, False, False, False, False,  True,\n",
              "        True,  True, False, False, False, False, False,  True, False,\n",
              "       False, False, False, False, False, False,  True, False, False,\n",
              "       False])"
            ]
          },
          "metadata": {
            "tags": []
          },
          "execution_count": 67
        }
      ]
    },
    {
      "cell_type": "code",
      "metadata": {
        "id": "e497B492fFru",
        "colab": {
          "base_uri": "https://localhost:8080/",
          "height": 156
        },
        "outputId": "03020338-a360-4f1f-b025-838b0738509d"
      },
      "source": [
        "a_conjunto1[~np.isnan(a_conjunto1)]"
      ],
      "execution_count": null,
      "outputs": [
        {
          "output_type": "execute_result",
          "data": {
            "text/plain": [
              "array([0.53, 0.57, 0.65, 0.86, 0.6 , 0.87, 0.46, 0.64, 0.55, 0.35, 0.32,\n",
              "       0.85, 0.76, 0.66, 0.33, 0.35, 0.42, 0.31, 0.27, 0.31, 0.36, 0.6 ,\n",
              "       0.02, 0.36, 0.28, 0.37, 0.44, 0.2 , 0.21, 0.65, 0.82, 0.72, 0.5 ,\n",
              "       0.17, 0.6 , 0.14, 0.71, 0.07, 0.56, 0.84, 0.21, 0.85, 0.63, 0.38,\n",
              "       0.91, 0.34, 0.07, 0.1 , 0.85, 0.12, 0.94, 0.16, 0.91, 0.59, 0.37,\n",
              "       0.72, 0.07, 0.48, 0.78, 0.97, 0.72, 0.29, 0.33, 0.95, 0.24, 0.98,\n",
              "       0.85, 0.63, 0.57, 0.67, 0.88, 0.68, 0.29, 0.33, 0.98, 0.17, 0.92,\n",
              "       0.98, 0.76, 0.31, 0.97, 0.08, 0.56, 0.49, 0.07, 0.11])"
            ]
          },
          "metadata": {
            "tags": []
          },
          "execution_count": 68
        }
      ]
    },
    {
      "cell_type": "markdown",
      "metadata": {
        "id": "RpvKfJU_fmA6"
      },
      "source": [
        "Observe que os NaN's foram excluidos."
      ]
    },
    {
      "cell_type": "markdown",
      "metadata": {
        "id": "60-l91_ccJxt"
      },
      "source": [
        ""
      ]
    },
    {
      "cell_type": "markdown",
      "metadata": {
        "id": "kywe-SmtcLpF"
      },
      "source": [
        "### **Exercício**: Atribuir a mediana aos valores nan da amostra."
      ]
    },
    {
      "cell_type": "markdown",
      "metadata": {
        "id": "_Dv8MmNYg8zN"
      },
      "source": [
        "___\n",
        "# **Converter lista em array**\n",
        "> Considere a lista a seguir:"
      ]
    },
    {
      "cell_type": "code",
      "metadata": {
        "id": "but6T9dVhFYb"
      },
      "source": [
        "l_Lista = [np.random.randint(0, 10, 10)]\n",
        "l_Lista"
      ],
      "execution_count": null,
      "outputs": []
    },
    {
      "cell_type": "code",
      "metadata": {
        "id": "xytj4Eo4hTh9"
      },
      "source": [
        "type(l_Lista)"
      ],
      "execution_count": null,
      "outputs": []
    },
    {
      "cell_type": "markdown",
      "metadata": {
        "id": "qrINdcruhWcH"
      },
      "source": [
        "Convertendo a minha lista para array:"
      ]
    },
    {
      "cell_type": "code",
      "metadata": {
        "id": "RoSyaX0OhZSE"
      },
      "source": [
        "a_conjunto = np.asarray(l_Lista)\n",
        "a_conjunto"
      ],
      "execution_count": null,
      "outputs": []
    },
    {
      "cell_type": "code",
      "metadata": {
        "id": "dMjTdbBUhlrk"
      },
      "source": [
        "type(a_conjunto)"
      ],
      "execution_count": null,
      "outputs": []
    },
    {
      "cell_type": "markdown",
      "metadata": {
        "id": "Mbm3ZP9DhxDI"
      },
      "source": [
        "___\n",
        "# Converter tupla em array\n",
        "> Considere a tupla a seguir:"
      ]
    },
    {
      "cell_type": "code",
      "metadata": {
        "id": "cZxEFYLAh3S_"
      },
      "source": [
        "np.random.seed(20111974)\n",
        "t_numeros = ([np.random.randint(0, 10, 3)], [np.random.randint(0, 10, 3)], [np.random.randint(0, 10, 3)])\n",
        "t_numeros"
      ],
      "execution_count": null,
      "outputs": []
    },
    {
      "cell_type": "code",
      "metadata": {
        "id": "vlTXUJviiAml"
      },
      "source": [
        "type(t_numeros)"
      ],
      "execution_count": null,
      "outputs": []
    },
    {
      "cell_type": "code",
      "metadata": {
        "id": "yEaOlq8oh3oh"
      },
      "source": [
        "a_conjunto = np.asarray(t_numeros)\n",
        "a_conjunto"
      ],
      "execution_count": null,
      "outputs": []
    },
    {
      "cell_type": "code",
      "metadata": {
        "id": "PSgQDmRWh3g5"
      },
      "source": [
        "type(a_conjunto)"
      ],
      "execution_count": null,
      "outputs": []
    },
    {
      "cell_type": "markdown",
      "metadata": {
        "id": "pH-Ht6yMiqJN"
      },
      "source": [
        "___\n",
        "# Acrescentar elementos à um array\n",
        "> Considere o array a seguir:"
      ]
    },
    {
      "cell_type": "code",
      "metadata": {
        "id": "dFaDZInZiwoo"
      },
      "source": [
        "a_conjunto1 = np.arange(5)\n",
        "a_conjunto1"
      ],
      "execution_count": null,
      "outputs": []
    },
    {
      "cell_type": "code",
      "metadata": {
        "id": "d3zrlf_Ci73Z"
      },
      "source": [
        "np.random.seed(20111974)\n",
        "a_conjunto1 = np.append(a_conjunto1, [np.random.randint(0, 10, 3), np.random.randint(0, 10, 3), np.random.randint(0, 10, 3)])\n",
        "a_conjunto1"
      ],
      "execution_count": null,
      "outputs": []
    },
    {
      "cell_type": "markdown",
      "metadata": {
        "id": "eFRhtk13ojqA"
      },
      "source": [
        "___\n",
        "# **Converter array 1D num array 2D**\n",
        "> Considere os arrays a seguir:"
      ]
    },
    {
      "cell_type": "code",
      "metadata": {
        "id": "wYhBgW9Zu6ZP"
      },
      "source": [
        "np.random.seed(20111974)\n",
        "a_conjunto1 = np.array(np.random.randint(0, 10, 6))\n",
        "\n",
        "np.random.seed(19741120)\n",
        "a_conjunto2 = np.array(np.random.randint(0, 10, 6))"
      ],
      "execution_count": null,
      "outputs": []
    },
    {
      "cell_type": "code",
      "metadata": {
        "id": "febs9AUHvs6n"
      },
      "source": [
        "a_conjunto1"
      ],
      "execution_count": null,
      "outputs": []
    },
    {
      "cell_type": "code",
      "metadata": {
        "id": "C9OEd-iavvBm"
      },
      "source": [
        "a_conjunto2"
      ],
      "execution_count": null,
      "outputs": []
    },
    {
      "cell_type": "code",
      "metadata": {
        "id": "KJWjtaWKv0MJ"
      },
      "source": [
        "np.column_stack((a_conjunto1, a_conjunto2)) # Atenção aos parênteses em (a_conjunto1, a_conjunto2)."
      ],
      "execution_count": null,
      "outputs": []
    },
    {
      "cell_type": "markdown",
      "metadata": {
        "id": "xr_WZXJ7pi2D"
      },
      "source": [
        "___\n",
        "# **Excluir um elemento específico do array usando indices**\n",
        "> Considere os arrays a seguir:"
      ]
    },
    {
      "cell_type": "code",
      "metadata": {
        "id": "tS0ZzOs8w0dw"
      },
      "source": [
        "np.random.seed(20111974)\n",
        "a_conjunto1 = np.array(np.random.randint(0, 10, 6))\n",
        "a_conjunto1"
      ],
      "execution_count": null,
      "outputs": []
    },
    {
      "cell_type": "markdown",
      "metadata": {
        "id": "7bOJiKDKxEsC"
      },
      "source": [
        "Suponha que eu queira excluir os valores '8' de a_conjunto1. Os índices dos valores '8' são: [0, 1, 3]. Portanto, temos:"
      ]
    },
    {
      "cell_type": "code",
      "metadata": {
        "id": "SSjueEvjxTJO"
      },
      "source": [
        "a_conjunto1 = np.delete(a_conjunto1, [0, 1, 3])\n",
        "a_conjunto1"
      ],
      "execution_count": null,
      "outputs": []
    },
    {
      "cell_type": "markdown",
      "metadata": {
        "id": "mZkGZ2Rgp--5"
      },
      "source": [
        "___\n",
        "# **Frequência dos valores únicos de um array**\n",
        "> Considere o array a seguir:"
      ]
    },
    {
      "cell_type": "code",
      "metadata": {
        "id": "Z2BWKfH0xvQ8",
        "colab": {
          "base_uri": "https://localhost:8080/",
          "height": 104
        },
        "outputId": "169b34a0-56d6-48ea-cffe-fbd7a757372c"
      },
      "source": [
        "np.random.seed(20111974)\n",
        "a_conjunto1 = np.array(np.random.randint(0, 10, 100))\n",
        "a_conjunto1"
      ],
      "execution_count": null,
      "outputs": [
        {
          "output_type": "execute_result",
          "data": {
            "text/plain": [
              "array([8, 8, 2, 8, 9, 1, 8, 0, 4, 2, 0, 8, 9, 3, 7, 1, 3, 2, 9, 7, 7, 9,\n",
              "       5, 6, 8, 7, 0, 9, 3, 9, 3, 1, 8, 6, 3, 5, 4, 1, 2, 9, 8, 6, 6, 1,\n",
              "       0, 9, 2, 0, 7, 5, 5, 4, 4, 2, 7, 2, 7, 9, 3, 1, 5, 0, 1, 2, 3, 8,\n",
              "       7, 5, 4, 0, 5, 9, 6, 6, 1, 3, 6, 0, 4, 9, 2, 1, 0, 9, 1, 4, 2, 9,\n",
              "       7, 9, 5, 3, 7, 6, 3, 9, 8, 4, 3, 0])"
            ]
          },
          "metadata": {
            "tags": []
          },
          "execution_count": 69
        }
      ]
    },
    {
      "cell_type": "markdown",
      "metadata": {
        "id": "s_tdQBsax4rQ"
      },
      "source": [
        "Suponha que eu queira saber quantas vezes o número/elemento '2' aparece em a_conjunto1."
      ]
    },
    {
      "cell_type": "code",
      "metadata": {
        "id": "JhsN15T5cm55"
      },
      "source": [
        "a = np.unique()"
      ],
      "execution_count": null,
      "outputs": []
    },
    {
      "cell_type": "code",
      "metadata": {
        "id": "6yIlk7pWyAtf",
        "colab": {
          "base_uri": "https://localhost:8080/",
          "height": 35
        },
        "outputId": "31d8d842-d6c2-4955-a3ed-76ec3badac9a"
      },
      "source": [
        "l_itens_unicos, i_count = np.unique(a_conjunto1, return_counts = True)\n",
        "l_itens_unicos"
      ],
      "execution_count": null,
      "outputs": [
        {
          "output_type": "execute_result",
          "data": {
            "text/plain": [
              "array([0, 1, 2, 3, 4, 5, 6, 7, 8, 9])"
            ]
          },
          "metadata": {
            "tags": []
          },
          "execution_count": 70
        }
      ]
    },
    {
      "cell_type": "markdown",
      "metadata": {
        "id": "DyvrIwS9yZIR"
      },
      "source": [
        "O que significa o output acima?"
      ]
    },
    {
      "cell_type": "code",
      "metadata": {
        "id": "uO-MPMhXyV9H",
        "colab": {
          "base_uri": "https://localhost:8080/",
          "height": 35
        },
        "outputId": "0cb620a1-d0ac-46b5-f379-9b0b563fdd71"
      },
      "source": [
        "i_count"
      ],
      "execution_count": null,
      "outputs": [
        {
          "output_type": "execute_result",
          "data": {
            "text/plain": [
              "array([10, 10, 10, 11,  8,  8,  8, 10, 10, 15])"
            ]
          },
          "metadata": {
            "tags": []
          },
          "execution_count": 71
        }
      ]
    },
    {
      "cell_type": "markdown",
      "metadata": {
        "id": "zwoezXrPyofK"
      },
      "source": [
        "Qual a interpretação do output acima?"
      ]
    },
    {
      "cell_type": "code",
      "metadata": {
        "id": "HgYycSG7yr5e",
        "colab": {
          "base_uri": "https://localhost:8080/",
          "height": 52
        },
        "outputId": "2091104b-45db-4d13-d65e-80d8af3acd7f"
      },
      "source": [
        "np.asarray((l_itens_unicos, i_count))"
      ],
      "execution_count": null,
      "outputs": [
        {
          "output_type": "execute_result",
          "data": {
            "text/plain": [
              "array([[ 0,  1,  2,  3,  4,  5,  6,  7,  8,  9],\n",
              "       [10, 10, 10, 11,  8,  8,  8, 10, 10, 15]])"
            ]
          },
          "metadata": {
            "tags": []
          },
          "execution_count": 72
        }
      ]
    },
    {
      "cell_type": "markdown",
      "metadata": {
        "id": "SwIZiJAiy06T"
      },
      "source": [
        "Qual a interpretação do output acima?"
      ]
    },
    {
      "cell_type": "markdown",
      "metadata": {
        "id": "JpNRpN2Dql3N"
      },
      "source": [
        "___\n",
        "# **Combinações possíveis de outros arrays**\n",
        "> Considere o exemplo a seguir:\n"
      ]
    },
    {
      "cell_type": "code",
      "metadata": {
        "id": "BUr89dH4zLXD"
      },
      "source": [
        "a_conjunto1 = [2, 4, 6]\n",
        "a_conjunto2 = [0, 8]\n",
        "a_conjunto4 = [1, 5]"
      ],
      "execution_count": null,
      "outputs": []
    },
    {
      "cell_type": "code",
      "metadata": {
        "id": "cEZH6l-Czx7y"
      },
      "source": [
        "np.meshgrid(a_conjunto1, a_conjunto2, a_conjunto4)"
      ],
      "execution_count": null,
      "outputs": []
    },
    {
      "cell_type": "code",
      "metadata": {
        "id": "btvmDkEcz0tH"
      },
      "source": [
        "np.array(np.meshgrid(a_conjunto1, a_conjunto2, a_conjunto4))"
      ],
      "execution_count": null,
      "outputs": []
    },
    {
      "cell_type": "code",
      "metadata": {
        "id": "Z0xhO7rGz059"
      },
      "source": [
        "np.array(np.meshgrid(a_conjunto1, a_conjunto2, a_conjunto4)).T"
      ],
      "execution_count": null,
      "outputs": []
    },
    {
      "cell_type": "code",
      "metadata": {
        "id": "eMv4lFnD0Enn"
      },
      "source": [
        "# Resultado final\n",
        "a_conjunto3 = np.array(np.meshgrid(a_conjunto1, a_conjunto2, a_conjunto4)).T.reshape(-1,3)\n",
        "a_conjunto3"
      ],
      "execution_count": null,
      "outputs": []
    },
    {
      "cell_type": "markdown",
      "metadata": {
        "id": "Rz80YANfAh2k"
      },
      "source": [
        "___\n",
        "# **Wrap Up**"
      ]
    },
    {
      "cell_type": "markdown",
      "metadata": {
        "id": "_cyhMsAVXxGC"
      },
      "source": [
        "___\n",
        "# **Exercícios**"
      ]
    },
    {
      "cell_type": "markdown",
      "metadata": {
        "id": "kNjovMw3uJ3R"
      },
      "source": [
        "## Exercício 1 - Selecionar os números pares\n",
        "> Dado o 1D array abaixo, selecionar somente os números pares."
      ]
    },
    {
      "cell_type": "code",
      "metadata": {
        "id": "isDzQjwjBX3V"
      },
      "source": [
        "a_conjunto1 = np.array([0, 1, 2, 3, 4, 5, 6, 7, 8, 9])\n",
        "a_conjunto1"
      ],
      "execution_count": null,
      "outputs": []
    },
    {
      "cell_type": "markdown",
      "metadata": {
        "id": "Kq1zt-uO1HXv"
      },
      "source": [
        "### **Minha solução**"
      ]
    },
    {
      "cell_type": "code",
      "metadata": {
        "id": "YFmK_n2M1Ks9"
      },
      "source": [
        "a_conjunto1[a_conjunto1 % 2 == 0]"
      ],
      "execution_count": null,
      "outputs": []
    },
    {
      "cell_type": "markdown",
      "metadata": {
        "id": "sScYG0hp05vb"
      },
      "source": [
        "___\n",
        "## Exercício 2 - Substituir pela mediana\n",
        "> Dado o array 1D abaixo, substituir os números pares pela mediana de a_conjunto1."
      ]
    },
    {
      "cell_type": "code",
      "metadata": {
        "id": "XLZ-DIWU1WFs"
      },
      "source": [
        "a_conjunto1 = np.array([0, 1, 2, 3, 4, 5, 6, 7, 8, 9])\n",
        "a_conjunto1"
      ],
      "execution_count": null,
      "outputs": []
    },
    {
      "cell_type": "markdown",
      "metadata": {
        "id": "9c4QWJno1WVB"
      },
      "source": [
        "### **Minha solução**\n",
        "* Primeiramente, precisamos calcular a mediana.\n",
        "* Depois, substituimos os valores pares de a_conjunto1 pela mediana encontrada anteriormente. Ok?"
      ]
    },
    {
      "cell_type": "code",
      "metadata": {
        "id": "rx7NGAO01Wfb"
      },
      "source": [
        "a_conjunto1[a_conjunto1 % 2 == 0] = np.median(a_conjunto1)\n",
        "a_conjunto1"
      ],
      "execution_count": null,
      "outputs": []
    },
    {
      "cell_type": "markdown",
      "metadata": {
        "id": "2c_AphX82qp8"
      },
      "source": [
        "Verificando..."
      ]
    },
    {
      "cell_type": "code",
      "metadata": {
        "id": "9kVta0Cr13Z9"
      },
      "source": [
        "f'A média de a_conjunto1 é: {np.median(a_conjunto1)}'"
      ],
      "execution_count": null,
      "outputs": []
    },
    {
      "cell_type": "markdown",
      "metadata": {
        "id": "L9O-Hf5x26TY"
      },
      "source": [
        "___\n",
        "## Exercício 3 - Reshape\n",
        "> Dado o array 1D abaixo, reshape para um array 2D com 3 colunas."
      ]
    },
    {
      "cell_type": "code",
      "metadata": {
        "id": "0_laUvtB4Wl-"
      },
      "source": [
        "# Define seed\n",
        "np.random.seed(20111974)\n",
        "a_conjunto1 = np.array(np.random.randint(1, 10, size = 15))\n",
        "a_conjunto1"
      ],
      "execution_count": null,
      "outputs": []
    },
    {
      "cell_type": "markdown",
      "metadata": {
        "id": "dKzEX8TK5b4Z"
      },
      "source": [
        "### **Minha solução**\n",
        "* O array 1D a_conjunto1 acima possui 15 elementos. Como queremos transformá-lo num array 2D com 3 colunas, então cada coluna terá 5 elementos."
      ]
    },
    {
      "cell_type": "code",
      "metadata": {
        "id": "I-j5yVD04249"
      },
      "source": [
        "a_conjunto1.reshape(5, 3) \n",
        "# Poderia ser a_conjunto1.reshape(-1, 3), onde \"-1\" pede para o NumPy calcular o número de linhas. "
      ],
      "execution_count": null,
      "outputs": []
    },
    {
      "cell_type": "markdown",
      "metadata": {
        "id": "F1vfS8jE6L0_"
      },
      "source": [
        "___\n",
        "## Exercício 4 - Reshape\n",
        "> Dado o array 1D abaixo, reshape para um array 3D com 2 colunas."
      ]
    },
    {
      "cell_type": "code",
      "metadata": {
        "id": "xcN-bez56L1D"
      },
      "source": [
        "# Define seed\n",
        "np.random.seed(20111974)\n",
        "a_conjunto1 = np.array(np.random.randint(1, 10, size = 16))\n",
        "a_conjunto1"
      ],
      "execution_count": null,
      "outputs": []
    },
    {
      "cell_type": "markdown",
      "metadata": {
        "id": "7iICnOyG6fcj"
      },
      "source": [
        "### **Minha solução**\n",
        "* O array 1D a_conjunto1 acima possui 16 elementos. Queremos transformá-lo num array 3D com 2 colunas."
      ]
    },
    {
      "cell_type": "code",
      "metadata": {
        "id": "vdq5ybuD6fcn"
      },
      "source": [
        "a_conjunto1.reshape(-1, 2) # O valor \"-1\" na posição das linhas pede ao NumPy para calcular o número de linhas automaticamente."
      ],
      "execution_count": null,
      "outputs": []
    },
    {
      "cell_type": "markdown",
      "metadata": {
        "id": "haQfWPcCs_H0"
      },
      "source": [
        "## Exercício 5\n",
        "Para mais exercícios envolvendo arrays, visite a página [Python: Array Exercises, Practice, Solution](https://www.w3resource.com/python-exercises/array/)."
      ]
    },
    {
      "cell_type": "markdown",
      "metadata": {
        "id": "LQQL0JS2tnc0"
      },
      "source": [
        "## Exercício 6\n",
        "Para mais exercícios envolvendo matemática, viste a página [Python Math: - Exercises, Practice, Solution](https://www.w3resource.com/python-exercises/math/index.php)."
      ]
    },
    {
      "cell_type": "markdown",
      "metadata": {
        "id": "qNskKFy9t4D5"
      },
      "source": [
        "## Exercício 7\n",
        "Para mais exercícios envolvendo NumPy em geral, visite a página [NumPy Exercises, Practice, Solution](https://www.w3resource.com/python-exercises/numpy/index.php)."
      ]
    },
    {
      "cell_type": "markdown",
      "metadata": {
        "id": "qqc1AiHXuKZ5"
      },
      "source": [
        "## Exercício 8\n"
      ]
    }
  ]
}